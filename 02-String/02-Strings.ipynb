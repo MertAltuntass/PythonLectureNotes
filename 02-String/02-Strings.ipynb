{
 "cells": [
  {
   "cell_type": "code",
   "execution_count": 1,
   "id": "a5642a06-f6a1-4ad8-8e49-470fbbe68575",
   "metadata": {},
   "outputs": [
    {
     "data": {
      "text/plain": [
       "'Metin2 pişmanlıktır'"
      ]
     },
     "execution_count": 1,
     "metadata": {},
     "output_type": "execute_result"
    }
   ],
   "source": [
    "\"Metin2 pişmanlıktır\""
   ]
  },
  {
   "cell_type": "code",
   "execution_count": 3,
   "id": "c6e9a0b3-5055-41fe-bc12-6f7f96a8f40a",
   "metadata": {},
   "outputs": [
    {
     "data": {
      "text/plain": [
       "'Wow candır'"
      ]
     },
     "execution_count": 3,
     "metadata": {},
     "output_type": "execute_result"
    }
   ],
   "source": [
    "'Wow candır'"
   ]
  },
  {
   "cell_type": "code",
   "execution_count": 5,
   "id": "5a4c5b8d-2a2b-4c02-b06b-55cae76a71ee",
   "metadata": {},
   "outputs": [
    {
     "ename": "SyntaxError",
     "evalue": "invalid syntax (1352368597.py, line 1)",
     "output_type": "error",
     "traceback": [
      "\u001b[1;36m  Cell \u001b[1;32mIn[5], line 1\u001b[1;36m\u001b[0m\n\u001b[1;33m    'i'm a pilot\u001b[0m\n\u001b[1;37m       ^\u001b[0m\n\u001b[1;31mSyntaxError\u001b[0m\u001b[1;31m:\u001b[0m invalid syntax\n"
     ]
    }
   ],
   "source": [
    "'i'm a pilot"
   ]
  },
  {
   "cell_type": "code",
   "execution_count": 7,
   "id": "aca3426c-00b7-4592-ad0e-1ece57177a89",
   "metadata": {},
   "outputs": [
    {
     "data": {
      "text/plain": [
       "\"i'm a pilot \""
      ]
     },
     "execution_count": 7,
     "metadata": {},
     "output_type": "execute_result"
    }
   ],
   "source": [
    "\"i'm a pilot \""
   ]
  },
  {
   "cell_type": "code",
   "execution_count": 9,
   "id": "16fb2a41-d5dd-47c9-ad6f-1d37148f14da",
   "metadata": {},
   "outputs": [],
   "source": [
    "x = \"Mert\""
   ]
  },
  {
   "cell_type": "code",
   "execution_count": 11,
   "id": "0f90e87c-6c70-40c4-8d01-0e388e3108cd",
   "metadata": {},
   "outputs": [
    {
     "data": {
      "text/plain": [
       "'Mert'"
      ]
     },
     "execution_count": 11,
     "metadata": {},
     "output_type": "execute_result"
    }
   ],
   "source": [
    "x"
   ]
  },
  {
   "cell_type": "code",
   "execution_count": 13,
   "id": "aede7b40-f53a-4f49-8857-7b16b76a39df",
   "metadata": {},
   "outputs": [],
   "source": [
    "x = \"Hey\""
   ]
  },
  {
   "cell_type": "code",
   "execution_count": 15,
   "id": "185e34da-9d83-4f77-a4cb-c8d56cee65c2",
   "metadata": {},
   "outputs": [
    {
     "data": {
      "text/plain": [
       "'Hey'"
      ]
     },
     "execution_count": 15,
     "metadata": {},
     "output_type": "execute_result"
    }
   ],
   "source": [
    "x"
   ]
  },
  {
   "cell_type": "code",
   "execution_count": 17,
   "id": "477a288b-887e-46ac-92ac-140f036d406d",
   "metadata": {},
   "outputs": [],
   "source": [
    "x = 3 "
   ]
  },
  {
   "cell_type": "code",
   "execution_count": 19,
   "id": "94163d11-03ec-4bf9-ba96-d02ec064c345",
   "metadata": {},
   "outputs": [
    {
     "data": {
      "text/plain": [
       "3"
      ]
     },
     "execution_count": 19,
     "metadata": {},
     "output_type": "execute_result"
    }
   ],
   "source": [
    "x"
   ]
  },
  {
   "cell_type": "code",
   "execution_count": 21,
   "id": "cc187a09-41a4-4c33-9357-5f0251811463",
   "metadata": {},
   "outputs": [],
   "source": [
    "x = \"Mert\""
   ]
  },
  {
   "cell_type": "code",
   "execution_count": 23,
   "id": "0686d0b7-c31e-4899-811e-6ceb260bc674",
   "metadata": {},
   "outputs": [
    {
     "data": {
      "text/plain": [
       "str"
      ]
     },
     "execution_count": 23,
     "metadata": {},
     "output_type": "execute_result"
    }
   ],
   "source": [
    "type(x)"
   ]
  },
  {
   "cell_type": "code",
   "execution_count": 25,
   "id": "bdb62b4a-bef7-4408-a27d-96663eab3000",
   "metadata": {},
   "outputs": [
    {
     "data": {
      "text/plain": [
       "4"
      ]
     },
     "execution_count": 25,
     "metadata": {},
     "output_type": "execute_result"
    }
   ],
   "source": [
    "len(x)"
   ]
  },
  {
   "cell_type": "markdown",
   "id": "d438acd5-9371-401f-83bb-00683120ca4d",
   "metadata": {},
   "source": [
    "length"
   ]
  },
  {
   "cell_type": "code",
   "execution_count": 28,
   "id": "94e138ae-54ca-4a1f-965e-3ebfd1f19eaa",
   "metadata": {},
   "outputs": [
    {
     "data": {
      "text/plain": [
       "4"
      ]
     },
     "execution_count": 28,
     "metadata": {},
     "output_type": "execute_result"
    }
   ],
   "source": [
    "len(x)"
   ]
  },
  {
   "cell_type": "code",
   "execution_count": 31,
   "id": "b2d25434-39ec-4a38-85b6-dc68c119faf3",
   "metadata": {},
   "outputs": [
    {
     "name": "stdout",
     "output_type": "stream",
     "text": [
      "Mert\n"
     ]
    }
   ],
   "source": [
    "print(x)"
   ]
  },
  {
   "cell_type": "markdown",
   "id": "d7c76bbe-87b6-49dc-8621-4e1487120423",
   "metadata": {},
   "source": [
    "Escape Characters"
   ]
  },
  {
   "cell_type": "code",
   "execution_count": 34,
   "id": "2b875d9d-2604-4f42-9d63-31b610003ff9",
   "metadata": {},
   "outputs": [
    {
     "name": "stdout",
     "output_type": "stream",
     "text": [
      "xxxxxxxxx\n"
     ]
    }
   ],
   "source": [
    "print(\"xxxxxxxxx\")"
   ]
  },
  {
   "cell_type": "code",
   "execution_count": 36,
   "id": "6ae23a2a-59ad-428b-856e-ba41c31d5638",
   "metadata": {},
   "outputs": [
    {
     "ename": "SyntaxError",
     "evalue": "unterminated string literal (detected at line 1) (1666657359.py, line 1)",
     "output_type": "error",
     "traceback": [
      "\u001b[1;36m  Cell \u001b[1;32mIn[36], line 1\u001b[1;36m\u001b[0m\n\u001b[1;33m    print(\"Mert\u001b[0m\n\u001b[1;37m          ^\u001b[0m\n\u001b[1;31mSyntaxError\u001b[0m\u001b[1;31m:\u001b[0m unterminated string literal (detected at line 1)\n"
     ]
    }
   ],
   "source": [
    "print(\"Mert\n",
    "altuntaş\")"
   ]
  },
  {
   "cell_type": "code",
   "execution_count": 38,
   "id": "3cf86ee4-d434-4aa0-8661-34ae351c7494",
   "metadata": {},
   "outputs": [
    {
     "name": "stdout",
     "output_type": "stream",
     "text": [
      "Mert \n",
      "Altuntas\n"
     ]
    }
   ],
   "source": [
    "print(\"Mert \\nAltuntas\")"
   ]
  },
  {
   "cell_type": "code",
   "execution_count": 40,
   "id": "ef11654a-a222-43df-b6dd-17252a5d9d38",
   "metadata": {},
   "outputs": [
    {
     "name": "stdout",
     "output_type": "stream",
     "text": [
      "Mert \tAltuntas\n"
     ]
    }
   ],
   "source": [
    "print(\"Mert \\tAltuntas\")"
   ]
  },
  {
   "cell_type": "code",
   "execution_count": null,
   "id": "8fd0b434-73d1-434b-ae46-3a7c2a22d04f",
   "metadata": {},
   "outputs": [],
   "source": []
  }
 ],
 "metadata": {
  "kernelspec": {
   "display_name": "Python 3 (ipykernel)",
   "language": "python",
   "name": "python3"
  },
  "language_info": {
   "codemirror_mode": {
    "name": "ipython",
    "version": 3
   },
   "file_extension": ".py",
   "mimetype": "text/x-python",
   "name": "python",
   "nbconvert_exporter": "python",
   "pygments_lexer": "ipython3",
   "version": "3.12.4"
  }
 },
 "nbformat": 4,
 "nbformat_minor": 5
}
