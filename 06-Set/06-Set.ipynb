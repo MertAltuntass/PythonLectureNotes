{
 "cells": [
  {
   "cell_type": "markdown",
   "id": "9bcc9c17-834b-40d6-9890-d9183bebc137",
   "metadata": {},
   "source": [
    "##Aynı elemandan birden fazla olamıyor"
   ]
  },
  {
   "cell_type": "code",
   "execution_count": 2,
   "id": "37aa3ee9-c0ad-4578-baa2-dace4032e985",
   "metadata": {},
   "outputs": [],
   "source": [
    "my_list=[1,2,3,1]"
   ]
  },
  {
   "cell_type": "code",
   "execution_count": 4,
   "id": "5937d08c-dc95-4ba5-9188-df7dd7233c78",
   "metadata": {},
   "outputs": [
    {
     "data": {
      "text/plain": [
       "[1, 2, 3, 1]"
      ]
     },
     "execution_count": 4,
     "metadata": {},
     "output_type": "execute_result"
    }
   ],
   "source": [
    "my_list"
   ]
  },
  {
   "cell_type": "markdown",
   "id": "bcb0cf26-9768-48ae-ac67-096f5eb7dc18",
   "metadata": {},
   "source": [
    " ##casting\n",
    " "
   ]
  },
  {
   "cell_type": "code",
   "execution_count": 7,
   "id": "ae8b6888-ac16-4b7f-8b54-e44c97526fde",
   "metadata": {},
   "outputs": [],
   "source": [
    "my_set=set(my_list)"
   ]
  },
  {
   "cell_type": "code",
   "execution_count": 9,
   "id": "ca17df39-6675-4f0c-9af0-ff6137e0e3d9",
   "metadata": {},
   "outputs": [
    {
     "data": {
      "text/plain": [
       "{1, 2, 3}"
      ]
     },
     "execution_count": 9,
     "metadata": {},
     "output_type": "execute_result"
    }
   ],
   "source": [
    "my_set"
   ]
  },
  {
   "cell_type": "code",
   "execution_count": 11,
   "id": "e8836c8e-53a1-4ffa-a252-f652b00f7ce6",
   "metadata": {},
   "outputs": [],
   "source": [
    "my_set2={1,2,3,1}"
   ]
  },
  {
   "cell_type": "code",
   "execution_count": 13,
   "id": "0bbfdcbe-fdb2-46dd-ba7e-a8d3137ef7dd",
   "metadata": {},
   "outputs": [
    {
     "data": {
      "text/plain": [
       "{1, 2, 3}"
      ]
     },
     "execution_count": 13,
     "metadata": {},
     "output_type": "execute_result"
    }
   ],
   "source": [
    "my_set2"
   ]
  },
  {
   "cell_type": "code",
   "execution_count": 15,
   "id": "7c9b0a66-fb2f-4349-bfa5-563ad15fa60b",
   "metadata": {},
   "outputs": [
    {
     "data": {
      "text/plain": [
       "set"
      ]
     },
     "execution_count": 15,
     "metadata": {},
     "output_type": "execute_result"
    }
   ],
   "source": [
    "type(my_set2)"
   ]
  },
  {
   "cell_type": "code",
   "execution_count": 17,
   "id": "3d721e02-ba15-446e-be3f-8582a62a84c3",
   "metadata": {},
   "outputs": [],
   "source": [
    "my_set3={\"a\",\"b\",\"a\"}"
   ]
  },
  {
   "cell_type": "code",
   "execution_count": 19,
   "id": "5a1554be-aa33-4e59-b6ae-93c52e876f8d",
   "metadata": {},
   "outputs": [
    {
     "data": {
      "text/plain": [
       "{'a', 'b'}"
      ]
     },
     "execution_count": 19,
     "metadata": {},
     "output_type": "execute_result"
    }
   ],
   "source": [
    "my_set3"
   ]
  },
  {
   "cell_type": "code",
   "execution_count": 21,
   "id": "3b48ec96-8cfd-45d6-9656-af6e4a8ec27d",
   "metadata": {},
   "outputs": [],
   "source": [
    "my_list=[]"
   ]
  },
  {
   "cell_type": "code",
   "execution_count": 23,
   "id": "f36b967f-ce3c-4778-ab87-20928465bfde",
   "metadata": {},
   "outputs": [
    {
     "data": {
      "text/plain": [
       "type"
      ]
     },
     "execution_count": 23,
     "metadata": {},
     "output_type": "execute_result"
    }
   ],
   "source": [
    "type(list)"
   ]
  },
  {
   "cell_type": "code",
   "execution_count": 25,
   "id": "3809c447-e12c-47dd-82d0-01482dcca165",
   "metadata": {},
   "outputs": [],
   "source": [
    "my_list.append(1)"
   ]
  },
  {
   "cell_type": "code",
   "execution_count": 27,
   "id": "5974695a-65ee-4e24-82f2-bf9edd48ddc8",
   "metadata": {},
   "outputs": [
    {
     "data": {
      "text/plain": [
       "[1]"
      ]
     },
     "execution_count": 27,
     "metadata": {},
     "output_type": "execute_result"
    }
   ],
   "source": [
    "my_list"
   ]
  },
  {
   "cell_type": "code",
   "execution_count": 29,
   "id": "7cdee1b9-fae8-4798-a8f1-f429cacd0979",
   "metadata": {},
   "outputs": [],
   "source": [
    "my_set_4={}"
   ]
  },
  {
   "cell_type": "code",
   "execution_count": 31,
   "id": "a11ce900-c7dd-44a2-b40e-f9ab4a84d14e",
   "metadata": {},
   "outputs": [
    {
     "data": {
      "text/plain": [
       "{}"
      ]
     },
     "execution_count": 31,
     "metadata": {},
     "output_type": "execute_result"
    }
   ],
   "source": [
    "my_set_4"
   ]
  },
  {
   "cell_type": "code",
   "execution_count": 33,
   "id": "ce75cc6f-4ff7-406c-a947-3a85e2dcad43",
   "metadata": {},
   "outputs": [
    {
     "data": {
      "text/plain": [
       "dict"
      ]
     },
     "execution_count": 33,
     "metadata": {},
     "output_type": "execute_result"
    }
   ],
   "source": [
    "type(my_set_4)"
   ]
  },
  {
   "cell_type": "code",
   "execution_count": 35,
   "id": "f834c99e-074a-44a2-b46a-d63a707bcf2d",
   "metadata": {},
   "outputs": [],
   "source": [
    "my_set_5=set()"
   ]
  },
  {
   "cell_type": "code",
   "execution_count": 37,
   "id": "cdf93ba7-a759-41ca-a939-4f896b7e3d3b",
   "metadata": {},
   "outputs": [
    {
     "data": {
      "text/plain": [
       "set"
      ]
     },
     "execution_count": 37,
     "metadata": {},
     "output_type": "execute_result"
    }
   ],
   "source": [
    "type(my_set_5)"
   ]
  },
  {
   "cell_type": "code",
   "execution_count": 39,
   "id": "95438bef-f3c8-4836-a273-da8955f5184f",
   "metadata": {},
   "outputs": [],
   "source": [
    "my_set_5.add(1)"
   ]
  },
  {
   "cell_type": "code",
   "execution_count": 41,
   "id": "79111757-b5cb-494e-8567-15a4f26fcb60",
   "metadata": {},
   "outputs": [],
   "source": [
    "my_set_5.add(2)"
   ]
  },
  {
   "cell_type": "code",
   "execution_count": 43,
   "id": "911772ce-ff94-47bc-8a9c-944d19b420ae",
   "metadata": {},
   "outputs": [
    {
     "data": {
      "text/plain": [
       "{1, 2}"
      ]
     },
     "execution_count": 43,
     "metadata": {},
     "output_type": "execute_result"
    }
   ],
   "source": [
    "my_set_5"
   ]
  },
  {
   "cell_type": "code",
   "execution_count": 45,
   "id": "80ef1595-6525-4d49-b1a4-9b518eed3bc5",
   "metadata": {},
   "outputs": [],
   "source": [
    "my_set_5.add(2)"
   ]
  },
  {
   "cell_type": "code",
   "execution_count": 47,
   "id": "00486fdf-b45e-49c3-a85e-24fadaa82fab",
   "metadata": {},
   "outputs": [
    {
     "data": {
      "text/plain": [
       "{1, 2}"
      ]
     },
     "execution_count": 47,
     "metadata": {},
     "output_type": "execute_result"
    }
   ],
   "source": [
    "my_set_5"
   ]
  },
  {
   "cell_type": "code",
   "execution_count": 49,
   "id": "a83325df-57e9-42df-b2a1-0b7d08056397",
   "metadata": {},
   "outputs": [],
   "source": [
    "my_dict_x1=dict()"
   ]
  },
  {
   "cell_type": "code",
   "execution_count": 51,
   "id": "429bf8ac-d418-4d77-9923-c93ded9d43fe",
   "metadata": {},
   "outputs": [],
   "source": [
    "my_dict_x1[\"key1\"]=1"
   ]
  },
  {
   "cell_type": "code",
   "execution_count": 53,
   "id": "7e4484e2-678a-4e1f-bb45-21b81f4ba4d0",
   "metadata": {},
   "outputs": [
    {
     "data": {
      "text/plain": [
       "{'key1': 1}"
      ]
     },
     "execution_count": 53,
     "metadata": {},
     "output_type": "execute_result"
    }
   ],
   "source": [
    "my_dict_x1"
   ]
  },
  {
   "cell_type": "code",
   "execution_count": null,
   "id": "bee0f3ba-9e57-4fe9-96ef-c631d0f49d0b",
   "metadata": {},
   "outputs": [],
   "source": []
  }
 ],
 "metadata": {
  "kernelspec": {
   "display_name": "Python 3 (ipykernel)",
   "language": "python",
   "name": "python3"
  },
  "language_info": {
   "codemirror_mode": {
    "name": "ipython",
    "version": 3
   },
   "file_extension": ".py",
   "mimetype": "text/x-python",
   "name": "python",
   "nbconvert_exporter": "python",
   "pygments_lexer": "ipython3",
   "version": "3.12.4"
  }
 },
 "nbformat": 4,
 "nbformat_minor": 5
}
