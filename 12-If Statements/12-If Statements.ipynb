{
 "cells": [
  {
   "cell_type": "code",
   "execution_count": 6,
   "id": "1e24d6b6-8856-4b06-9ae1-1e1d4e222fa0",
   "metadata": {},
   "outputs": [
    {
     "name": "stdout",
     "output_type": "stream",
     "text": [
      "mert\n",
      "123\n"
     ]
    }
   ],
   "source": [
    "if 3 > 2:\n",
    "    print(\"mert\")\n",
    "    print(\"123\")"
   ]
  },
  {
   "cell_type": "code",
   "execution_count": 16,
   "id": "7957ba8f-f092-403f-b754-91d231aa6a42",
   "metadata": {},
   "outputs": [],
   "source": [
    "x = 3"
   ]
  },
  {
   "cell_type": "code",
   "execution_count": 18,
   "id": "8f6eed3b-81af-4a90-9e75-538ed1e8feeb",
   "metadata": {},
   "outputs": [],
   "source": [
    "y = 4"
   ]
  },
  {
   "cell_type": "code",
   "execution_count": 20,
   "id": "3d9b6526-3f49-4bac-8c18-436e473bf957",
   "metadata": {},
   "outputs": [
    {
     "name": "stdout",
     "output_type": "stream",
     "text": [
      "y is greater\n"
     ]
    }
   ],
   "source": [
    "if x > y:\n",
    "    print(\"x is greater\")\n",
    "else:\n",
    "    print(\"y is greater\")"
   ]
  },
  {
   "cell_type": "code",
   "execution_count": 22,
   "id": "8ad0fd92-faa6-4c81-a404-fa6f6291cb2a",
   "metadata": {},
   "outputs": [],
   "source": [
    "x = 4"
   ]
  },
  {
   "cell_type": "code",
   "execution_count": 24,
   "id": "d38fe6a5-eb51-40de-9827-302576d0b121",
   "metadata": {},
   "outputs": [],
   "source": [
    "y = 4 "
   ]
  },
  {
   "cell_type": "code",
   "execution_count": 30,
   "id": "0477c7e3-bff5-4a74-90b3-078b5b2ec65a",
   "metadata": {},
   "outputs": [
    {
     "name": "stdout",
     "output_type": "stream",
     "text": [
      "x is y\n"
     ]
    }
   ],
   "source": [
    "if x > y:\n",
    "    print(\"x is greater\")\n",
    "elif x==y:\n",
    "    print(\"x is y\")\n",
    "else:\n",
    "    print(\"y is greater\")"
   ]
  },
  {
   "cell_type": "code",
   "execution_count": 32,
   "id": "7bdb37f7-fdd6-4a01-a146-f0b97c44a4de",
   "metadata": {},
   "outputs": [
    {
     "name": "stdin",
     "output_type": "stream",
     "text": [
      "superhero:  batman\n"
     ]
    }
   ],
   "source": [
    "my_superhero = input(\"superhero: \")"
   ]
  },
  {
   "cell_type": "code",
   "execution_count": 34,
   "id": "af011e5a-d512-4083-b937-c4838add6309",
   "metadata": {},
   "outputs": [
    {
     "name": "stdout",
     "output_type": "stream",
     "text": [
      ":/\n"
     ]
    }
   ],
   "source": [
    "if my_superhero == \"Batman\":\n",
    "    print(\"wow\")\n",
    "elif my_superhero == \"Superman\":\n",
    "    print(\"wow2\")\n",
    "elif my_superhero ==\"Ironman\":\n",
    "    print(\"wow3\")\n",
    "else:\n",
    "    print(\":/\")"
   ]
  },
  {
   "cell_type": "code",
   "execution_count": 36,
   "id": "0bef9c67-8e80-461a-a70a-7aabd58684b7",
   "metadata": {},
   "outputs": [],
   "source": [
    "a = 10"
   ]
  },
  {
   "cell_type": "code",
   "execution_count": 38,
   "id": "62312098-11bf-4f2d-837d-08fb94d7cd67",
   "metadata": {},
   "outputs": [],
   "source": [
    "b = 15"
   ]
  },
  {
   "cell_type": "code",
   "execution_count": 40,
   "id": "72003364-ee55-4a55-82e7-eadf37d69510",
   "metadata": {},
   "outputs": [],
   "source": [
    "c = 20 "
   ]
  },
  {
   "cell_type": "code",
   "execution_count": 48,
   "id": "64627de3-8e0f-48d3-b260-43bcc7270bca",
   "metadata": {},
   "outputs": [
    {
     "name": "stdout",
     "output_type": "stream",
     "text": [
      "kkk\n"
     ]
    }
   ],
   "source": [
    "if a > b or b < c:\n",
    "    print(\"kkk\")\n",
    "elif a < b and b > c:\n",
    "    print(\"aaa\")\n",
    "else:\n",
    "    print(\"mmm\")"
   ]
  },
  {
   "cell_type": "code",
   "execution_count": 50,
   "id": "c4c616f4-8f7a-48f2-beff-b9f7ea470aae",
   "metadata": {},
   "outputs": [],
   "source": [
    "isDead = False"
   ]
  },
  {
   "cell_type": "code",
   "execution_count": 56,
   "id": "6ace750d-e474-486a-9bfb-ea82eebec07f",
   "metadata": {},
   "outputs": [
    {
     "name": "stdout",
     "output_type": "stream",
     "text": [
      "character is not dead\n"
     ]
    }
   ],
   "source": [
    "if isDead == True:\n",
    "    print(\"character is dead\")\n",
    "else:\n",
    "    print(\"character is not dead\")"
   ]
  },
  {
   "cell_type": "code",
   "execution_count": 58,
   "id": "3d6e3ed2-297c-491a-80f6-586138658640",
   "metadata": {},
   "outputs": [
    {
     "name": "stdout",
     "output_type": "stream",
     "text": [
      "character is not dead\n"
     ]
    }
   ],
   "source": [
    "if isDead:  ##\n",
    "    print(\"character is dead\")\n",
    "else:\n",
    "    print(\"character is not dead\")"
   ]
  },
  {
   "cell_type": "code",
   "execution_count": 60,
   "id": "17814c69-9cd6-43e6-a7e3-dd96a4821fc6",
   "metadata": {},
   "outputs": [
    {
     "name": "stdout",
     "output_type": "stream",
     "text": [
      "character is not dead\n"
     ]
    }
   ],
   "source": [
    "if not isDead:\n",
    "    print(\"character is not dead\")"
   ]
  },
  {
   "cell_type": "code",
   "execution_count": 62,
   "id": "f138376b-7051-4e80-b677-5b17c4aa67f5",
   "metadata": {},
   "outputs": [],
   "source": [
    "my_string = \"hello world\""
   ]
  },
  {
   "cell_type": "code",
   "execution_count": 64,
   "id": "749cf4c7-5b71-4298-bcfe-897e19df0e7b",
   "metadata": {},
   "outputs": [
    {
     "name": "stdout",
     "output_type": "stream",
     "text": [
      "equal\n"
     ]
    }
   ],
   "source": [
    "if my_string == \"hello world\":\n",
    "    print(\"equal\")"
   ]
  },
  {
   "cell_type": "code",
   "execution_count": 66,
   "id": "aa387aed-7b04-4e27-bb18-8cdff19cecb2",
   "metadata": {},
   "outputs": [
    {
     "name": "stdout",
     "output_type": "stream",
     "text": [
      "true\n"
     ]
    }
   ],
   "source": [
    "if \"hello\" in my_string:\n",
    "    print(\"true\")\n",
    "else:\n",
    "    print(\"false\")"
   ]
  },
  {
   "cell_type": "code",
   "execution_count": 68,
   "id": "ebc3ec81-8868-4ec0-955e-a0979511a8b2",
   "metadata": {},
   "outputs": [],
   "source": [
    "my_list = [1,2,3,4,5]"
   ]
  },
  {
   "cell_type": "code",
   "execution_count": 70,
   "id": "39cf3a30-993c-4d1a-8d1e-239303f9a3b0",
   "metadata": {},
   "outputs": [
    {
     "name": "stdout",
     "output_type": "stream",
     "text": [
      "true\n"
     ]
    }
   ],
   "source": [
    "if 2 in my_list:\n",
    "    print(\"true\")\n",
    "else:\n",
    "    print(\"false\")"
   ]
  },
  {
   "cell_type": "code",
   "execution_count": 72,
   "id": "89b89577-c056-4e41-9679-22c0f0f82ecc",
   "metadata": {},
   "outputs": [],
   "source": [
    "my_dic = {\"k1\":100, \"k2\":200, \"k3\":300}"
   ]
  },
  {
   "cell_type": "code",
   "execution_count": 78,
   "id": "9f7d9b10-d6eb-430c-9de1-b848c2caa581",
   "metadata": {},
   "outputs": [
    {
     "name": "stdout",
     "output_type": "stream",
     "text": [
      "false\n"
     ]
    }
   ],
   "source": [
    "if 100 in my_dic.keys(): ## values aradığımız için false veriyor a\n",
    "    print(\"true\")\n",
    "else:\n",
    "    print(\"false\")"
   ]
  },
  {
   "cell_type": "code",
   "execution_count": null,
   "id": "98d067ec-c91d-4106-ad26-8c5d841d9e40",
   "metadata": {},
   "outputs": [],
   "source": []
  }
 ],
 "metadata": {
  "kernelspec": {
   "display_name": "Python 3 (ipykernel)",
   "language": "python",
   "name": "python3"
  },
  "language_info": {
   "codemirror_mode": {
    "name": "ipython",
    "version": 3
   },
   "file_extension": ".py",
   "mimetype": "text/x-python",
   "name": "python",
   "nbconvert_exporter": "python",
   "pygments_lexer": "ipython3",
   "version": "3.12.4"
  }
 },
 "nbformat": 4,
 "nbformat_minor": 5
}
