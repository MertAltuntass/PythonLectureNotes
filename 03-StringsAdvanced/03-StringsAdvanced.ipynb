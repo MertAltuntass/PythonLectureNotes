{
 "cells": [
  {
   "cell_type": "code",
   "execution_count": 1,
   "id": "362271e7-7e5f-46b9-883d-a1416bcb57f9",
   "metadata": {},
   "outputs": [],
   "source": [
    "my_string = \"Mert ALTUNTAS\""
   ]
  },
  {
   "cell_type": "code",
   "execution_count": 3,
   "id": "09f29af5-728f-4621-a8e8-eaade9c5f34c",
   "metadata": {},
   "outputs": [
    {
     "data": {
      "text/plain": [
       "'Mert ALTUNTAS'"
      ]
     },
     "execution_count": 3,
     "metadata": {},
     "output_type": "execute_result"
    }
   ],
   "source": [
    "my_string"
   ]
  },
  {
   "cell_type": "markdown",
   "id": "79681463-ced4-4f92-9568-32e628b569f0",
   "metadata": {},
   "source": [
    "##indexing"
   ]
  },
  {
   "cell_type": "code",
   "execution_count": 6,
   "id": "cce5738f-7b8e-482f-8ab4-a9beb505a240",
   "metadata": {},
   "outputs": [
    {
     "data": {
      "text/plain": [
       "'M'"
      ]
     },
     "execution_count": 6,
     "metadata": {},
     "output_type": "execute_result"
    }
   ],
   "source": [
    "my_string[0]"
   ]
  },
  {
   "cell_type": "code",
   "execution_count": 8,
   "id": "51d19df8-87cb-4750-9e55-7bf227f30946",
   "metadata": {},
   "outputs": [
    {
     "data": {
      "text/plain": [
       "'t'"
      ]
     },
     "execution_count": 8,
     "metadata": {},
     "output_type": "execute_result"
    }
   ],
   "source": [
    "my_string[3]"
   ]
  },
  {
   "cell_type": "code",
   "execution_count": 10,
   "id": "97b8c6c0-2f2f-431e-8029-f9ac12a75670",
   "metadata": {},
   "outputs": [
    {
     "data": {
      "text/plain": [
       "'S'"
      ]
     },
     "execution_count": 10,
     "metadata": {},
     "output_type": "execute_result"
    }
   ],
   "source": [
    "my_string[-1]"
   ]
  },
  {
   "cell_type": "code",
   "execution_count": 12,
   "id": "ec6fc697-7051-4035-b098-95c0fc678e4e",
   "metadata": {},
   "outputs": [
    {
     "data": {
      "text/plain": [
       "'A'"
      ]
     },
     "execution_count": 12,
     "metadata": {},
     "output_type": "execute_result"
    }
   ],
   "source": [
    "my_string[-2]"
   ]
  },
  {
   "cell_type": "code",
   "execution_count": 14,
   "id": "a35605aa-18d5-41a4-b115-801662b42e14",
   "metadata": {},
   "outputs": [],
   "source": [
    "my_string_2 = \"1234567890\""
   ]
  },
  {
   "cell_type": "code",
   "execution_count": 16,
   "id": "a0ae5bed-ae20-426d-a8fc-2ef553b70a2a",
   "metadata": {},
   "outputs": [
    {
     "data": {
      "text/plain": [
       "'1'"
      ]
     },
     "execution_count": 16,
     "metadata": {},
     "output_type": "execute_result"
    }
   ],
   "source": [
    "my_string_2[0]"
   ]
  },
  {
   "cell_type": "code",
   "execution_count": 18,
   "id": "cde398b7-4046-4925-aef6-06aa8f458ca4",
   "metadata": {},
   "outputs": [
    {
     "data": {
      "text/plain": [
       "'34567890'"
      ]
     },
     "execution_count": 18,
     "metadata": {},
     "output_type": "execute_result"
    }
   ],
   "source": [
    "my_string_2[2:]"
   ]
  },
  {
   "cell_type": "markdown",
   "id": "2cc547c1-cbd9-4ff9-bde3-97fe498adf12",
   "metadata": {},
   "source": [
    "#Slicing"
   ]
  },
  {
   "cell_type": "code",
   "execution_count": 23,
   "id": "73446d03-1c89-44de-bb47-c9048a12f4b0",
   "metadata": {},
   "outputs": [
    {
     "data": {
      "text/plain": [
       "'567890'"
      ]
     },
     "execution_count": 23,
     "metadata": {},
     "output_type": "execute_result"
    }
   ],
   "source": [
    "my_string_2[4:]"
   ]
  },
  {
   "cell_type": "code",
   "execution_count": 25,
   "id": "21f5fcd9-b84b-4b11-a403-493f7d0690cd",
   "metadata": {},
   "outputs": [
    {
     "data": {
      "text/plain": [
       "'12'"
      ]
     },
     "execution_count": 25,
     "metadata": {},
     "output_type": "execute_result"
    }
   ],
   "source": [
    "my_string_2[:2]"
   ]
  },
  {
   "cell_type": "markdown",
   "id": "1c00c4ff-d235-4de5-8619-619e366c6f4c",
   "metadata": {},
   "source": [
    "##stopping index"
   ]
  },
  {
   "cell_type": "code",
   "execution_count": 28,
   "id": "8668c130-a361-4124-a061-60d1c301a782",
   "metadata": {},
   "outputs": [
    {
     "data": {
      "text/plain": [
       "'1234'"
      ]
     },
     "execution_count": 28,
     "metadata": {},
     "output_type": "execute_result"
    }
   ],
   "source": [
    "my_string_2[:4]"
   ]
  },
  {
   "cell_type": "code",
   "execution_count": 30,
   "id": "9a725fd3-f3af-4669-a72b-987e9407130f",
   "metadata": {},
   "outputs": [
    {
     "data": {
      "text/plain": [
       "'34'"
      ]
     },
     "execution_count": 30,
     "metadata": {},
     "output_type": "execute_result"
    }
   ],
   "source": [
    "my_string_2[2:4]"
   ]
  },
  {
   "cell_type": "code",
   "execution_count": 32,
   "id": "dd1cde90-ed62-4fa0-97e4-14f742dfed0e",
   "metadata": {},
   "outputs": [
    {
     "data": {
      "text/plain": [
       "'678'"
      ]
     },
     "execution_count": 32,
     "metadata": {},
     "output_type": "execute_result"
    }
   ],
   "source": [
    "my_string_2[5:8]"
   ]
  },
  {
   "cell_type": "markdown",
   "id": "c11428a4-a6bb-4848-8c59-7002afc37df8",
   "metadata": {},
   "source": [
    "##step size"
   ]
  },
  {
   "cell_type": "code",
   "execution_count": 35,
   "id": "fe2bdad6-0f5e-4c4f-a5dd-74bd3ff0b153",
   "metadata": {},
   "outputs": [
    {
     "data": {
      "text/plain": [
       "'1234567890'"
      ]
     },
     "execution_count": 35,
     "metadata": {},
     "output_type": "execute_result"
    }
   ],
   "source": [
    "my_string_2[::]"
   ]
  },
  {
   "cell_type": "code",
   "execution_count": 37,
   "id": "554b785c-4945-48a2-90c8-1bc8b5782426",
   "metadata": {},
   "outputs": [
    {
     "data": {
      "text/plain": [
       "'1470'"
      ]
     },
     "execution_count": 37,
     "metadata": {},
     "output_type": "execute_result"
    }
   ],
   "source": [
    "my_string_2[::3]"
   ]
  },
  {
   "cell_type": "code",
   "execution_count": 41,
   "id": "63ff9669-c9d4-49b1-b081-311f7afa9a0b",
   "metadata": {},
   "outputs": [
    {
     "data": {
      "text/plain": [
       "'13579'"
      ]
     },
     "execution_count": 41,
     "metadata": {},
     "output_type": "execute_result"
    }
   ],
   "source": [
    "my_string_2[::2]"
   ]
  },
  {
   "cell_type": "code",
   "execution_count": 43,
   "id": "482404f5-d78f-46ea-86b4-883437e351ec",
   "metadata": {},
   "outputs": [
    {
     "data": {
      "text/plain": [
       "'3'"
      ]
     },
     "execution_count": 43,
     "metadata": {},
     "output_type": "execute_result"
    }
   ],
   "source": [
    "my_string_2[2:4:2] ##2 başla 4 dur 2şer atla"
   ]
  },
  {
   "cell_type": "code",
   "execution_count": 47,
   "id": "fe21994c-9fe7-42f5-aeac-2577cdefdec1",
   "metadata": {},
   "outputs": [
    {
     "data": {
      "text/plain": [
       "'0987654321'"
      ]
     },
     "execution_count": 47,
     "metadata": {},
     "output_type": "execute_result"
    }
   ],
   "source": [
    "my_string_2[::-1] ##tersine çevirmiş oluyoruz"
   ]
  },
  {
   "cell_type": "markdown",
   "id": "2bd76202-bc39-4551-9413-2d7773453d23",
   "metadata": {},
   "source": [
    "##String Methods"
   ]
  },
  {
   "cell_type": "code",
   "execution_count": 9,
   "id": "0ee8418b-5c01-419a-8f1d-bbdebbfe4029",
   "metadata": {},
   "outputs": [],
   "source": [
    "my_name = \"mert\""
   ]
  },
  {
   "cell_type": "code",
   "execution_count": 15,
   "id": "e9697ac1-3ed6-4170-9719-7f141c81a137",
   "metadata": {},
   "outputs": [],
   "source": [
    "my_name_capitalized=my_name.capitalize()"
   ]
  },
  {
   "cell_type": "code",
   "execution_count": 13,
   "id": "fdd6688b-ba09-4352-ac02-24887c8d9963",
   "metadata": {},
   "outputs": [
    {
     "data": {
      "text/plain": [
       "'mert'"
      ]
     },
     "execution_count": 13,
     "metadata": {},
     "output_type": "execute_result"
    }
   ],
   "source": [
    "my_name"
   ]
  },
  {
   "cell_type": "code",
   "execution_count": 17,
   "id": "55de6a69-db5a-4a41-8ba8-74955a722f28",
   "metadata": {},
   "outputs": [
    {
     "data": {
      "text/plain": [
       "'Mert'"
      ]
     },
     "execution_count": 17,
     "metadata": {},
     "output_type": "execute_result"
    }
   ],
   "source": [
    "my_name_capitalized"
   ]
  },
  {
   "cell_type": "code",
   "execution_count": 19,
   "id": "4bad6a0e-0896-416f-8666-69b70edc915c",
   "metadata": {},
   "outputs": [],
   "source": [
    "my_name = \"Mert ALTUNTAŞ\""
   ]
  },
  {
   "cell_type": "code",
   "execution_count": 21,
   "id": "4dc04867-f6a8-4f47-a812-8ecd1c442da5",
   "metadata": {},
   "outputs": [
    {
     "data": {
      "text/plain": [
       "['Mert', 'ALTUNTAŞ']"
      ]
     },
     "execution_count": 21,
     "metadata": {},
     "output_type": "execute_result"
    }
   ],
   "source": [
    "my_name.split()"
   ]
  },
  {
   "cell_type": "code",
   "execution_count": 25,
   "id": "6b93db4a-ed36-416f-ac6f-be1ba19005f0",
   "metadata": {},
   "outputs": [],
   "source": [
    "my_name_split=my_name.split()"
   ]
  },
  {
   "cell_type": "code",
   "execution_count": 27,
   "id": "5889a13f-1a9a-416d-8816-0c9b900cdcb1",
   "metadata": {},
   "outputs": [
    {
     "data": {
      "text/plain": [
       "['Mert', 'ALTUNTAŞ']"
      ]
     },
     "execution_count": 27,
     "metadata": {},
     "output_type": "execute_result"
    }
   ],
   "source": [
    "my_name_split"
   ]
  },
  {
   "cell_type": "code",
   "execution_count": 29,
   "id": "bfa1b690-45cf-4b24-81c0-310d291a77a0",
   "metadata": {},
   "outputs": [],
   "source": [
    "my_number = 123"
   ]
  },
  {
   "cell_type": "code",
   "execution_count": 31,
   "id": "1b7d6b38-c061-4b95-8891-3537313d4e13",
   "metadata": {},
   "outputs": [
    {
     "data": {
      "text/plain": [
       "'MERT ALTUNTAŞ'"
      ]
     },
     "execution_count": 31,
     "metadata": {},
     "output_type": "execute_result"
    }
   ],
   "source": [
    "my_name.upper()"
   ]
  },
  {
   "cell_type": "code",
   "execution_count": 35,
   "id": "90db629b-618c-44e3-92cd-6ea948cd0840",
   "metadata": {},
   "outputs": [
    {
     "data": {
      "text/plain": [
       "'mertmertmertmertmertmertmertmertmertmert'"
      ]
     },
     "execution_count": 35,
     "metadata": {},
     "output_type": "execute_result"
    }
   ],
   "source": [
    "\"mert\" *10 ##python buna izin veriyor ama float değerlere izin vermiyor o kadar da değil diyor :D "
   ]
  },
  {
   "cell_type": "code",
   "execution_count": 37,
   "id": "b75deaba-c642-4e1c-9ebd-9bb787048fbf",
   "metadata": {},
   "outputs": [
    {
     "data": {
      "text/plain": [
       "'mert5'"
      ]
     },
     "execution_count": 37,
     "metadata": {},
     "output_type": "execute_result"
    }
   ],
   "source": [
    "\"mert\" + \"5\""
   ]
  },
  {
   "cell_type": "code",
   "execution_count": 39,
   "id": "69cd25c5-d0a1-4b1a-8841-70fec210b8ff",
   "metadata": {},
   "outputs": [],
   "source": [
    "my_name = \"Mert\""
   ]
  },
  {
   "cell_type": "code",
   "execution_count": 41,
   "id": "10c72970-fc0e-4189-9cf0-d0dcea919d28",
   "metadata": {},
   "outputs": [],
   "source": [
    "my_surname=\"ALTUNTAS\""
   ]
  },
  {
   "cell_type": "code",
   "execution_count": 47,
   "id": "4881b5eb-c6c6-477c-8f43-4ce585193118",
   "metadata": {},
   "outputs": [],
   "source": [
    "my_full_name=my_name+\" \"+ my_surname"
   ]
  },
  {
   "cell_type": "code",
   "execution_count": 49,
   "id": "c692548a-7b4e-494e-960b-a23102b449ac",
   "metadata": {},
   "outputs": [
    {
     "data": {
      "text/plain": [
       "'Mert ALTUNTAS'"
      ]
     },
     "execution_count": 49,
     "metadata": {},
     "output_type": "execute_result"
    }
   ],
   "source": [
    "my_full_name"
   ]
  },
  {
   "cell_type": "code",
   "execution_count": null,
   "id": "f750f917-bd12-435c-b8bd-7c857a98f625",
   "metadata": {},
   "outputs": [],
   "source": []
  }
 ],
 "metadata": {
  "kernelspec": {
   "display_name": "Python 3 (ipykernel)",
   "language": "python",
   "name": "python3"
  },
  "language_info": {
   "codemirror_mode": {
    "name": "ipython",
    "version": 3
   },
   "file_extension": ".py",
   "mimetype": "text/x-python",
   "name": "python",
   "nbconvert_exporter": "python",
   "pygments_lexer": "ipython3",
   "version": "3.12.4"
  }
 },
 "nbformat": 4,
 "nbformat_minor": 5
}
