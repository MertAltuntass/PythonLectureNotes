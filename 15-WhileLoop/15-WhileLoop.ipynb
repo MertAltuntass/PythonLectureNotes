{
 "cells": [
  {
   "cell_type": "code",
   "execution_count": 2,
   "id": "dc3a5a20-46b8-4051-967e-91ff0c27babe",
   "metadata": {},
   "outputs": [],
   "source": [
    "##bir koşul tuttuğu sürece işlem yapmaya devam ediyor"
   ]
  },
  {
   "cell_type": "code",
   "execution_count": 4,
   "id": "5d8e6c6d-2bc4-4611-b4c5-cfe2a3e1590b",
   "metadata": {},
   "outputs": [],
   "source": [
    "a = 0 "
   ]
  },
  {
   "cell_type": "code",
   "execution_count": 6,
   "id": "afc2703f-ea25-4cbe-baba-09223b8e6c2a",
   "metadata": {},
   "outputs": [
    {
     "name": "stdout",
     "output_type": "stream",
     "text": [
      "hello\n",
      "hello\n",
      "hello\n",
      "hello\n",
      "hello\n"
     ]
    }
   ],
   "source": [
    "while a < 5:\n",
    "    print(\"hello\")##burda sonsuz döngüye giricek o yüzden değerini artırıyorum.\n",
    "    a = a + 1 "
   ]
  },
  {
   "cell_type": "code",
   "execution_count": 8,
   "id": "ac626c4b-969a-40df-8f05-2d434e4e06e6",
   "metadata": {},
   "outputs": [],
   "source": [
    "my_list = [1,2,3,4,5]"
   ]
  },
  {
   "cell_type": "code",
   "execution_count": 12,
   "id": "acd5dcc5-4eff-4ed0-bd31-bdbc97155b2f",
   "metadata": {},
   "outputs": [
    {
     "data": {
      "text/plain": [
       "5"
      ]
     },
     "execution_count": 12,
     "metadata": {},
     "output_type": "execute_result"
    }
   ],
   "source": [
    "my_list.pop()"
   ]
  },
  {
   "cell_type": "code",
   "execution_count": 14,
   "id": "44d2103a-8f6c-4517-b6e4-c3ee7ea6981f",
   "metadata": {},
   "outputs": [
    {
     "data": {
      "text/plain": [
       "[1, 2, 3, 4]"
      ]
     },
     "execution_count": 14,
     "metadata": {},
     "output_type": "execute_result"
    }
   ],
   "source": [
    "my_list"
   ]
  },
  {
   "cell_type": "code",
   "execution_count": 18,
   "id": "89a2ed1c-2659-450b-b084-fa3412910df4",
   "metadata": {},
   "outputs": [],
   "source": [
    "my_list.append(5)"
   ]
  },
  {
   "cell_type": "code",
   "execution_count": 20,
   "id": "7f8d09a3-a40f-4e99-a354-b140f99d260f",
   "metadata": {},
   "outputs": [
    {
     "data": {
      "text/plain": [
       "[1, 2, 3, 4, 6, 5]"
      ]
     },
     "execution_count": 20,
     "metadata": {},
     "output_type": "execute_result"
    }
   ],
   "source": [
    "my_list"
   ]
  },
  {
   "cell_type": "code",
   "execution_count": 22,
   "id": "19341e56-124d-4dca-98e3-e8b60017495c",
   "metadata": {},
   "outputs": [
    {
     "name": "stdout",
     "output_type": "stream",
     "text": [
      "4 in my list\n",
      "4 in my list\n",
      "4 in my list\n"
     ]
    }
   ],
   "source": [
    "while 4 in my_list:\n",
    "    print(\"4 in my list\")\n",
    "    my_list.pop()\n",
    "    "
   ]
  },
  {
   "cell_type": "code",
   "execution_count": 51,
   "id": "d6e508bc-30e3-4c90-9b69-0e2e1e886417",
   "metadata": {},
   "outputs": [],
   "source": [
    "number = 0"
   ]
  },
  {
   "cell_type": "code",
   "execution_count": 53,
   "id": "975987a0-7d2f-4ab3-82a6-b848ff13e139",
   "metadata": {},
   "outputs": [
    {
     "name": "stdout",
     "output_type": "stream",
     "text": [
      "0\n",
      "1\n",
      "2\n",
      "3\n",
      "4\n"
     ]
    }
   ],
   "source": [
    "while number < 10:\n",
    "    if number == 5:\n",
    "        break\n",
    "    print(number)\n",
    "    number += 1 # number = number +1 yazmak yerine bunu yazıyoruz."
   ]
  },
  {
   "cell_type": "code",
   "execution_count": 75,
   "id": "5653fcab-2099-4aa3-9c7b-659e1c4f74da",
   "metadata": {},
   "outputs": [],
   "source": [
    "m = 0"
   ]
  },
  {
   "cell_type": "code",
   "execution_count": 77,
   "id": "b8b744b4-cd21-48c8-9563-19361b5a34c8",
   "metadata": {},
   "outputs": [
    {
     "name": "stdout",
     "output_type": "stream",
     "text": [
      "value m: 0\n",
      "value m: 1\n",
      "value m: 2\n",
      "value m: 3\n",
      "value m: 4\n",
      "value m: 5\n",
      "value m: 6\n",
      "value m: 7\n",
      "value m: 8\n",
      "value m: 9\n",
      "value m: 10\n",
      "value m: 11\n",
      "value m: 12\n",
      "value m: 13\n",
      "value m: 14\n",
      "value m: 15\n",
      "value m: 16\n",
      "value m: 17\n",
      "value m: 18\n",
      "value m: 19\n"
     ]
    }
   ],
   "source": [
    "while m < 20:\n",
    "    #print(\"value p: \" + str(p))\n",
    "    print(f\"value m: {m}\") ##f koyduktan sonra herhangi bir değişkeni bir string olarak yazdırabiliyoruz f\"\"\n",
    "    m += 1"
   ]
  },
  {
   "cell_type": "code",
   "execution_count": null,
   "id": "c941a635-3356-404d-856b-33e8c8f24201",
   "metadata": {},
   "outputs": [],
   "source": []
  }
 ],
 "metadata": {
  "kernelspec": {
   "display_name": "Python 3 (ipykernel)",
   "language": "python",
   "name": "python3"
  },
  "language_info": {
   "codemirror_mode": {
    "name": "ipython",
    "version": 3
   },
   "file_extension": ".py",
   "mimetype": "text/x-python",
   "name": "python",
   "nbconvert_exporter": "python",
   "pygments_lexer": "ipython3",
   "version": "3.12.4"
  }
 },
 "nbformat": 4,
 "nbformat_minor": 5
}
