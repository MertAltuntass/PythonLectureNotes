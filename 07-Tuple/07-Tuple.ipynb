{
 "cells": [
  {
   "cell_type": "code",
   "execution_count": 1,
   "id": "ab971d0f-f6ba-4117-a9ce-24de609cb553",
   "metadata": {},
   "outputs": [],
   "source": [
    "my_list = [\"a\",1,\"c\"]"
   ]
  },
  {
   "cell_type": "code",
   "execution_count": 3,
   "id": "5a2b0dc9-ebdc-4e44-a0e4-00eef28f7aa3",
   "metadata": {},
   "outputs": [],
   "source": [
    "my_list[0]=\"b\""
   ]
  },
  {
   "cell_type": "code",
   "execution_count": 5,
   "id": "bc69e93b-2661-41e7-b790-e4c53d2b409b",
   "metadata": {},
   "outputs": [
    {
     "data": {
      "text/plain": [
       "['b', 1, 'c']"
      ]
     },
     "execution_count": 5,
     "metadata": {},
     "output_type": "execute_result"
    }
   ],
   "source": [
    "my_list"
   ]
  },
  {
   "cell_type": "code",
   "execution_count": 2,
   "id": "5e34ed5d-b91f-4887-ab30-315a88b7e3bf",
   "metadata": {},
   "outputs": [],
   "source": [
    "my_tuple=(\"a\",1,\"c\") ## 1 kere veri girildiği zaman değiştirilmiyor yani immutable"
   ]
  },
  {
   "cell_type": "code",
   "execution_count": 9,
   "id": "0b1e2f2c-c364-45f9-8303-ee1a77114664",
   "metadata": {},
   "outputs": [
    {
     "data": {
      "text/plain": [
       "'a'"
      ]
     },
     "execution_count": 9,
     "metadata": {},
     "output_type": "execute_result"
    }
   ],
   "source": [
    "my_tuple[0]"
   ]
  },
  {
   "cell_type": "markdown",
   "id": "4140fca3-9b95-4e2b-b777-89bd72c997c5",
   "metadata": {},
   "source": [
    "##immutable\n"
   ]
  },
  {
   "cell_type": "code",
   "execution_count": 14,
   "id": "a3875ed7-b35a-4e3d-a870-32cd7e38873c",
   "metadata": {},
   "outputs": [],
   "source": [
    "#my_tuple[1]=2 ##diyemeyiz hata veriyor"
   ]
  },
  {
   "cell_type": "code",
   "execution_count": 4,
   "id": "eb8b512b-004b-4363-ae89-9caacf3e8a95",
   "metadata": {},
   "outputs": [
    {
     "data": {
      "text/plain": [
       "1"
      ]
     },
     "execution_count": 4,
     "metadata": {},
     "output_type": "execute_result"
    }
   ],
   "source": [
    "my_tuple.count(\"a\")"
   ]
  },
  {
   "cell_type": "code",
   "execution_count": 6,
   "id": "21e502f5-07d9-44b0-ac60-edeb4aaec217",
   "metadata": {},
   "outputs": [],
   "source": [
    "my_tuple_2 = (1,1,1,\"a\",\"c\")"
   ]
  },
  {
   "cell_type": "code",
   "execution_count": 8,
   "id": "de3af1f9-7e98-424e-b57a-5c35225fe817",
   "metadata": {},
   "outputs": [
    {
     "data": {
      "text/plain": [
       "3"
      ]
     },
     "execution_count": 8,
     "metadata": {},
     "output_type": "execute_result"
    }
   ],
   "source": [
    "my_tuple_2.count(1)"
   ]
  },
  {
   "cell_type": "code",
   "execution_count": 10,
   "id": "99a2e132-f5ac-4353-a25c-34c93102f82b",
   "metadata": {},
   "outputs": [
    {
     "data": {
      "text/plain": [
       "3"
      ]
     },
     "execution_count": 10,
     "metadata": {},
     "output_type": "execute_result"
    }
   ],
   "source": [
    "my_tuple_2.index(\"a\")"
   ]
  },
  {
   "cell_type": "code",
   "execution_count": 12,
   "id": "7a616899-d23d-4481-8e89-982b400b868a",
   "metadata": {},
   "outputs": [
    {
     "data": {
      "text/plain": [
       "0"
      ]
     },
     "execution_count": 12,
     "metadata": {},
     "output_type": "execute_result"
    }
   ],
   "source": [
    "my_tuple_2.index(1)"
   ]
  },
  {
   "cell_type": "code",
   "execution_count": null,
   "id": "7a82933b-dffb-4b25-a6f1-f6f9609b1aac",
   "metadata": {},
   "outputs": [],
   "source": []
  }
 ],
 "metadata": {
  "kernelspec": {
   "display_name": "Python 3 (ipykernel)",
   "language": "python",
   "name": "python3"
  },
  "language_info": {
   "codemirror_mode": {
    "name": "ipython",
    "version": 3
   },
   "file_extension": ".py",
   "mimetype": "text/x-python",
   "name": "python",
   "nbconvert_exporter": "python",
   "pygments_lexer": "ipython3",
   "version": "3.12.4"
  }
 },
 "nbformat": 4,
 "nbformat_minor": 5
}
