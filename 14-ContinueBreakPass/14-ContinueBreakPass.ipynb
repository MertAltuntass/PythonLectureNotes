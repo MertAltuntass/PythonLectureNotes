{
 "cells": [
  {
   "cell_type": "code",
   "execution_count": 2,
   "id": "72db5220-2a1d-4070-9595-eb25b9e10bf8",
   "metadata": {},
   "outputs": [],
   "source": [
    "my_list = [10,20,30,50,60]"
   ]
  },
  {
   "cell_type": "code",
   "execution_count": 4,
   "id": "786a6f4a-558a-48de-a4b2-10a62afe1435",
   "metadata": {},
   "outputs": [
    {
     "name": "stdout",
     "output_type": "stream",
     "text": [
      "10\n",
      "20\n",
      "30\n",
      "50\n",
      "60\n"
     ]
    }
   ],
   "source": [
    "for number in my_list:\n",
    "    print(number)"
   ]
  },
  {
   "cell_type": "code",
   "execution_count": 6,
   "id": "bdb36c28-4780-417f-8946-a573b9d346e3",
   "metadata": {},
   "outputs": [
    {
     "name": "stdout",
     "output_type": "stream",
     "text": [
      "50\n",
      "100\n"
     ]
    }
   ],
   "source": [
    "for num in my_list:##eğer loop durdurmak istersem break.\n",
    "    if num == 30:\n",
    "        break\n",
    "    print(num *5)"
   ]
  },
  {
   "cell_type": "code",
   "execution_count": 8,
   "id": "526dc6dd-0d80-403f-8ef5-6ced02ec93ea",
   "metadata": {},
   "outputs": [
    {
     "name": "stdout",
     "output_type": "stream",
     "text": [
      "50\n",
      "100\n",
      "250\n",
      "300\n"
     ]
    }
   ],
   "source": [
    "for item in my_list: ##eğer loop bir sayıyı hesaba katmamak işlem yapmamak isteyip başa dönmek istersem bunu kullanıyorum.\n",
    "    if item == 30:\n",
    "        continue\n",
    "    print(item *5)"
   ]
  },
  {
   "cell_type": "code",
   "execution_count": 14,
   "id": "53339893-3287-4891-9db1-3a94012b19dd",
   "metadata": {},
   "outputs": [],
   "source": [
    "for sen in my_list:##pratik amaçla kullanılır, bir şey karar veremediğinizde pass kullanıyorsunuz böylece hata almıyorsunuz.\n",
    "    pass ##hiç bir şey yapma yoluna devam et ama hatada verme."
   ]
  },
  {
   "cell_type": "code",
   "execution_count": null,
   "id": "4a7f47a8-d32c-48d1-a716-4a0f0409563a",
   "metadata": {},
   "outputs": [],
   "source": []
  }
 ],
 "metadata": {
  "kernelspec": {
   "display_name": "Python 3 (ipykernel)",
   "language": "python",
   "name": "python3"
  },
  "language_info": {
   "codemirror_mode": {
    "name": "ipython",
    "version": 3
   },
   "file_extension": ".py",
   "mimetype": "text/x-python",
   "name": "python",
   "nbconvert_exporter": "python",
   "pygments_lexer": "ipython3",
   "version": "3.12.4"
  }
 },
 "nbformat": 4,
 "nbformat_minor": 5
}
