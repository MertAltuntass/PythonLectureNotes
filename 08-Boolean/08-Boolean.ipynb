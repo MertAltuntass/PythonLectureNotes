{
 "cells": [
  {
   "cell_type": "code",
   "execution_count": 1,
   "id": "ff3727bd-3a91-41db-b990-8dccf829047e",
   "metadata": {},
   "outputs": [
    {
     "data": {
      "text/plain": [
       "True"
      ]
     },
     "execution_count": 1,
     "metadata": {},
     "output_type": "execute_result"
    }
   ],
   "source": [
    "True"
   ]
  },
  {
   "cell_type": "code",
   "execution_count": 3,
   "id": "7216de51-3e08-453d-8c2b-0ab3f910a940",
   "metadata": {},
   "outputs": [
    {
     "data": {
      "text/plain": [
       "False"
      ]
     },
     "execution_count": 3,
     "metadata": {},
     "output_type": "execute_result"
    }
   ],
   "source": [
    "False"
   ]
  },
  {
   "cell_type": "code",
   "execution_count": 5,
   "id": "d0ef6e5e-f954-4215-9503-b6444d7832ca",
   "metadata": {},
   "outputs": [],
   "source": [
    "my_boolean = True"
   ]
  },
  {
   "cell_type": "code",
   "execution_count": 7,
   "id": "07b4b884-9cb5-4111-bbb4-cb3351e419a4",
   "metadata": {},
   "outputs": [],
   "source": [
    "is_dead = False"
   ]
  },
  {
   "cell_type": "code",
   "execution_count": 9,
   "id": "3ee5d4eb-a556-443d-834f-dbc6aa4f8baf",
   "metadata": {},
   "outputs": [
    {
     "data": {
      "text/plain": [
       "True"
      ]
     },
     "execution_count": 9,
     "metadata": {},
     "output_type": "execute_result"
    }
   ],
   "source": [
    "5 > 3 "
   ]
  },
  {
   "cell_type": "code",
   "execution_count": 11,
   "id": "26710b07-ad09-43b0-aea7-ce70fb3cae28",
   "metadata": {},
   "outputs": [
    {
     "data": {
      "text/plain": [
       "False"
      ]
     },
     "execution_count": 11,
     "metadata": {},
     "output_type": "execute_result"
    }
   ],
   "source": [
    "3 > 5 "
   ]
  },
  {
   "cell_type": "code",
   "execution_count": 13,
   "id": "63b399e2-5630-461e-a355-893191ea2773",
   "metadata": {},
   "outputs": [],
   "source": [
    "x = 5"
   ]
  },
  {
   "cell_type": "code",
   "execution_count": 15,
   "id": "0c36b473-dd8b-4049-8e42-8442f17fa3f9",
   "metadata": {},
   "outputs": [
    {
     "name": "stdin",
     "output_type": "stream",
     "text": [
      "y: 6\n"
     ]
    }
   ],
   "source": [
    "y = input(\"y:\" )"
   ]
  },
  {
   "cell_type": "code",
   "execution_count": 17,
   "id": "12d0e20f-2b23-4971-8dab-d23a73410fe0",
   "metadata": {},
   "outputs": [
    {
     "data": {
      "text/plain": [
       "str"
      ]
     },
     "execution_count": 17,
     "metadata": {},
     "output_type": "execute_result"
    }
   ],
   "source": [
    "type(y)"
   ]
  },
  {
   "cell_type": "code",
   "execution_count": 19,
   "id": "9f66d514-f946-4146-87b9-ee86e1683a44",
   "metadata": {},
   "outputs": [],
   "source": [
    "y_int = int(y)"
   ]
  },
  {
   "cell_type": "code",
   "execution_count": 21,
   "id": "bcb8d637-b5da-4d5c-aa02-b48b407cd470",
   "metadata": {},
   "outputs": [
    {
     "data": {
      "text/plain": [
       "str"
      ]
     },
     "execution_count": 21,
     "metadata": {},
     "output_type": "execute_result"
    }
   ],
   "source": [
    "type(y)"
   ]
  },
  {
   "cell_type": "code",
   "execution_count": 23,
   "id": "70205003-1e57-4f0e-8976-de02fdf2a207",
   "metadata": {},
   "outputs": [
    {
     "data": {
      "text/plain": [
       "int"
      ]
     },
     "execution_count": 23,
     "metadata": {},
     "output_type": "execute_result"
    }
   ],
   "source": [
    "type(y_int)"
   ]
  },
  {
   "cell_type": "code",
   "execution_count": 25,
   "id": "7e0d2e89-91f1-4dff-9f64-2c5e5be8ad81",
   "metadata": {},
   "outputs": [
    {
     "data": {
      "text/plain": [
       "True"
      ]
     },
     "execution_count": 25,
     "metadata": {},
     "output_type": "execute_result"
    }
   ],
   "source": [
    "y_int > x"
   ]
  },
  {
   "cell_type": "code",
   "execution_count": null,
   "id": "a8577b35-48dd-4071-9371-6f2f790d8007",
   "metadata": {},
   "outputs": [],
   "source": []
  }
 ],
 "metadata": {
  "kernelspec": {
   "display_name": "Python 3 (ipykernel)",
   "language": "python",
   "name": "python3"
  },
  "language_info": {
   "codemirror_mode": {
    "name": "ipython",
    "version": 3
   },
   "file_extension": ".py",
   "mimetype": "text/x-python",
   "name": "python",
   "nbconvert_exporter": "python",
   "pygments_lexer": "ipython3",
   "version": "3.12.4"
  }
 },
 "nbformat": 4,
 "nbformat_minor": 5
}
