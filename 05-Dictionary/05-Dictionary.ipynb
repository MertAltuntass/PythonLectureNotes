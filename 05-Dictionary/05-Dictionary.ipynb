{
 "cells": [
  {
   "cell_type": "code",
   "execution_count": 2,
   "id": "8293af56-8479-4aec-9502-0f2f5345fbe5",
   "metadata": {},
   "outputs": [],
   "source": [
    "my_dictionary = {\"key\":\"value\"}"
   ]
  },
  {
   "cell_type": "code",
   "execution_count": 4,
   "id": "baa4608d-b455-4ee9-a2b7-71c5601af043",
   "metadata": {},
   "outputs": [
    {
     "data": {
      "text/plain": [
       "'value'"
      ]
     },
     "execution_count": 4,
     "metadata": {},
     "output_type": "execute_result"
    }
   ],
   "source": [
    "my_dictionary[\"key\"]"
   ]
  },
  {
   "cell_type": "code",
   "execution_count": 6,
   "id": "280f9693-de40-4bb2-a69c-e802c308cf56",
   "metadata": {},
   "outputs": [],
   "source": [
    "my_fitness_dictionary = {\"run\":100,\"swim\":200}"
   ]
  },
  {
   "cell_type": "code",
   "execution_count": 8,
   "id": "62b77a9d-e3d9-4aa5-8944-0c4d6da0e4ae",
   "metadata": {},
   "outputs": [
    {
     "data": {
      "text/plain": [
       "100"
      ]
     },
     "execution_count": 8,
     "metadata": {},
     "output_type": "execute_result"
    }
   ],
   "source": [
    "my_fitness_dictionary[\"run\"]"
   ]
  },
  {
   "cell_type": "code",
   "execution_count": 10,
   "id": "9290dc02-c481-4377-b7c8-3ee53c0bc7c0",
   "metadata": {},
   "outputs": [
    {
     "data": {
      "text/plain": [
       "200"
      ]
     },
     "execution_count": 10,
     "metadata": {},
     "output_type": "execute_result"
    }
   ],
   "source": [
    "my_fitness_dictionary[\"swim\"]"
   ]
  },
  {
   "cell_type": "code",
   "execution_count": 12,
   "id": "5ae80edd-b3ff-4132-8a7d-ff57c4e69e12",
   "metadata": {},
   "outputs": [],
   "source": [
    "my_dictionary_2 = {\"key1\":1,\"key2\":2,\"key3\":\"apple\"}"
   ]
  },
  {
   "cell_type": "code",
   "execution_count": 14,
   "id": "28ba78be-9b3f-4fd7-8567-79cdbaadc11b",
   "metadata": {},
   "outputs": [
    {
     "data": {
      "text/plain": [
       "1"
      ]
     },
     "execution_count": 14,
     "metadata": {},
     "output_type": "execute_result"
    }
   ],
   "source": [
    "my_dictionary_2[\"key1\"]"
   ]
  },
  {
   "cell_type": "code",
   "execution_count": 16,
   "id": "3536437f-fd20-40ad-94a6-269407ed510f",
   "metadata": {},
   "outputs": [
    {
     "data": {
      "text/plain": [
       "'apple'"
      ]
     },
     "execution_count": 16,
     "metadata": {},
     "output_type": "execute_result"
    }
   ],
   "source": [
    "my_dictionary_2[\"key3\"]"
   ]
  },
  {
   "cell_type": "code",
   "execution_count": 18,
   "id": "794f2bb3-6020-4ed5-ad2e-47d765fa5f63",
   "metadata": {},
   "outputs": [],
   "source": [
    "my_dictionary_3 = {\"key1\":10,20:30}"
   ]
  },
  {
   "cell_type": "code",
   "execution_count": 20,
   "id": "4148efd4-3df5-4676-b04a-125f9c57fdc8",
   "metadata": {},
   "outputs": [
    {
     "data": {
      "text/plain": [
       "10"
      ]
     },
     "execution_count": 20,
     "metadata": {},
     "output_type": "execute_result"
    }
   ],
   "source": [
    "my_dictionary_3[\"key1\"]"
   ]
  },
  {
   "cell_type": "code",
   "execution_count": 22,
   "id": "508d75a9-8d2b-4166-80a7-7573c25ed14b",
   "metadata": {},
   "outputs": [
    {
     "data": {
      "text/plain": [
       "30"
      ]
     },
     "execution_count": 22,
     "metadata": {},
     "output_type": "execute_result"
    }
   ],
   "source": [
    "my_dictionary_3[20]"
   ]
  },
  {
   "cell_type": "code",
   "execution_count": 26,
   "id": "f77ae2ec-4916-4054-aa07-7d55de4d5399",
   "metadata": {},
   "outputs": [],
   "source": [
    "my_dictionary_4 = {\"key1\":100, \"key2\": [10,20,30], \"key3\": {\"a\":5}}"
   ]
  },
  {
   "cell_type": "code",
   "execution_count": 28,
   "id": "7d51c4e3-d6d1-4803-94a7-d99c1d56c26b",
   "metadata": {},
   "outputs": [
    {
     "data": {
      "text/plain": [
       "dict_keys(['key1', 'key2', 'key3'])"
      ]
     },
     "execution_count": 28,
     "metadata": {},
     "output_type": "execute_result"
    }
   ],
   "source": [
    "my_dictionary_4.keys()"
   ]
  },
  {
   "cell_type": "code",
   "execution_count": 30,
   "id": "f9b8b834-0a88-4723-be35-fba2515d43ea",
   "metadata": {},
   "outputs": [
    {
     "data": {
      "text/plain": [
       "dict_values([100, [10, 20, 30], {'a': 5}])"
      ]
     },
     "execution_count": 30,
     "metadata": {},
     "output_type": "execute_result"
    }
   ],
   "source": [
    "my_dictionary_4.values()"
   ]
  },
  {
   "cell_type": "code",
   "execution_count": 40,
   "id": "310afa7e-f3cb-404d-8cb4-da54f726ddcc",
   "metadata": {},
   "outputs": [
    {
     "data": {
      "text/plain": [
       "5"
      ]
     },
     "execution_count": 40,
     "metadata": {},
     "output_type": "execute_result"
    }
   ],
   "source": [
    "my_dictionary_4[\"key3\"][\"a\"]"
   ]
  },
  {
   "cell_type": "code",
   "execution_count": 42,
   "id": "e58126d1-fc2d-4538-ba89-bee619834901",
   "metadata": {},
   "outputs": [],
   "source": [
    "my_dic={\"k1\":1,\"k2\":2}"
   ]
  },
  {
   "cell_type": "code",
   "execution_count": 44,
   "id": "462add61-2440-4aae-9a3a-39004622ee79",
   "metadata": {},
   "outputs": [],
   "source": [
    "my_dic[\"k1\"]=3"
   ]
  },
  {
   "cell_type": "code",
   "execution_count": 46,
   "id": "6b772c95-7e80-4691-b1fd-ceaf8f2d5866",
   "metadata": {},
   "outputs": [
    {
     "data": {
      "text/plain": [
       "{'k1': 3, 'k2': 2}"
      ]
     },
     "execution_count": 46,
     "metadata": {},
     "output_type": "execute_result"
    }
   ],
   "source": [
    "my_dic"
   ]
  },
  {
   "cell_type": "code",
   "execution_count": 48,
   "id": "69661f98-0c63-43a6-90db-aa8c1535fc31",
   "metadata": {},
   "outputs": [],
   "source": [
    "my_dic[\"k3\"]=7"
   ]
  },
  {
   "cell_type": "code",
   "execution_count": 50,
   "id": "7eb2195b-38f4-4fe0-b61d-c54a2d5a5407",
   "metadata": {},
   "outputs": [
    {
     "data": {
      "text/plain": [
       "{'k1': 3, 'k2': 2, 'k3': 7}"
      ]
     },
     "execution_count": 50,
     "metadata": {},
     "output_type": "execute_result"
    }
   ],
   "source": [
    "my_dic"
   ]
  },
  {
   "cell_type": "code",
   "execution_count": null,
   "id": "1174c211-9d73-4440-b332-837ffcf6d9f6",
   "metadata": {},
   "outputs": [],
   "source": []
  }
 ],
 "metadata": {
  "kernelspec": {
   "display_name": "Python 3 (ipykernel)",
   "language": "python",
   "name": "python3"
  },
  "language_info": {
   "codemirror_mode": {
    "name": "ipython",
    "version": 3
   },
   "file_extension": ".py",
   "mimetype": "text/x-python",
   "name": "python",
   "nbconvert_exporter": "python",
   "pygments_lexer": "ipython3",
   "version": "3.12.4"
  }
 },
 "nbformat": 4,
 "nbformat_minor": 5
}
