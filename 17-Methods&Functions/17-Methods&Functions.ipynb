{
 "cells": [
  {
   "cell_type": "code",
   "execution_count": 2,
   "id": "39200d3a-5ada-43a5-aae9-2ad5bf8b13cc",
   "metadata": {},
   "outputs": [],
   "source": [
    "my_string = \"Mert\""
   ]
  },
  {
   "cell_type": "code",
   "execution_count": 4,
   "id": "528f558a-2cab-44f6-9005-386fd88854fb",
   "metadata": {},
   "outputs": [
    {
     "data": {
      "text/plain": [
       "'MERT'"
      ]
     },
     "execution_count": 4,
     "metadata": {},
     "output_type": "execute_result"
    }
   ],
   "source": [
    "my_string.upper()"
   ]
  },
  {
   "cell_type": "code",
   "execution_count": 6,
   "id": "f947aca2-ce22-4a0e-ac2e-f01f25637082",
   "metadata": {},
   "outputs": [
    {
     "data": {
      "text/plain": [
       "'Mert'"
      ]
     },
     "execution_count": 6,
     "metadata": {},
     "output_type": "execute_result"
    }
   ],
   "source": [
    "my_string"
   ]
  },
  {
   "cell_type": "code",
   "execution_count": 8,
   "id": "01d8c9c3-53e9-4e70-9385-9ebac379010b",
   "metadata": {},
   "outputs": [],
   "source": [
    "my_string_upper = my_string.upper()"
   ]
  },
  {
   "cell_type": "code",
   "execution_count": 10,
   "id": "ef702f08-d07a-420f-bf62-d2bd6278f39e",
   "metadata": {},
   "outputs": [
    {
     "data": {
      "text/plain": [
       "'Mert'"
      ]
     },
     "execution_count": 10,
     "metadata": {},
     "output_type": "execute_result"
    }
   ],
   "source": [
    "my_string"
   ]
  },
  {
   "cell_type": "code",
   "execution_count": 12,
   "id": "edc4371e-04a4-47f3-83ef-c6ed929f6e2d",
   "metadata": {},
   "outputs": [
    {
     "data": {
      "text/plain": [
       "'MERT'"
      ]
     },
     "execution_count": 12,
     "metadata": {},
     "output_type": "execute_result"
    }
   ],
   "source": [
    "my_string_upper"
   ]
  },
  {
   "cell_type": "code",
   "execution_count": 14,
   "id": "bb9e8368-0d6d-4d22-98f5-ee3e214988b2",
   "metadata": {},
   "outputs": [
    {
     "name": "stdout",
     "output_type": "stream",
     "text": [
      "Help on built-in function split:\n",
      "\n",
      "split(sep=None, maxsplit=-1) method of builtins.str instance\n",
      "    Return a list of the substrings in the string, using sep as the separator string.\n",
      "\n",
      "      sep\n",
      "        The separator used to split the string.\n",
      "\n",
      "        When set to None (the default value), will split on any whitespace\n",
      "        character (including \\n \\r \\t \\f and spaces) and will discard\n",
      "        empty strings from the result.\n",
      "      maxsplit\n",
      "        Maximum number of splits.\n",
      "        -1 (the default value) means no limit.\n",
      "\n",
      "    Splitting starts at the front of the string and works to the end.\n",
      "\n",
      "    Note, str.split() is mainly useful for data that has been intentionally\n",
      "    delimited.  With natural text that includes punctuation, consider using\n",
      "    the regular expression module.\n",
      "\n"
     ]
    }
   ],
   "source": [
    "help(my_string.split)"
   ]
  },
  {
   "cell_type": "code",
   "execution_count": 16,
   "id": "e88233f2-f323-455e-b16a-03d8ab407fa8",
   "metadata": {},
   "outputs": [],
   "source": [
    "def helloworld():\n",
    "    print(\"hello\")\n",
    "    print(\"World\")\n",
    "    "
   ]
  },
  {
   "cell_type": "code",
   "execution_count": 18,
   "id": "80612aa0-b8ed-4cb3-a459-296f88c5600b",
   "metadata": {},
   "outputs": [
    {
     "name": "stdout",
     "output_type": "stream",
     "text": [
      "hello\n",
      "World\n"
     ]
    }
   ],
   "source": [
    "helloworld()"
   ]
  },
  {
   "cell_type": "markdown",
   "id": "a298795d-74fc-4e47-b15d-9fa51636e153",
   "metadata": {},
   "source": [
    "## INPUT & RETURN"
   ]
  },
  {
   "cell_type": "code",
   "execution_count": 21,
   "id": "0203a81b-41ea-485a-b7ec-bbc9592275be",
   "metadata": {},
   "outputs": [],
   "source": [
    "def hello_programming(name):\n",
    "    print(\"hello\")\n",
    "    print(name)"
   ]
  },
  {
   "cell_type": "code",
   "execution_count": 23,
   "id": "e60deffc-6852-4993-a25b-c1ce574ad142",
   "metadata": {},
   "outputs": [
    {
     "name": "stdout",
     "output_type": "stream",
     "text": [
      "hello\n",
      "python\n"
     ]
    }
   ],
   "source": [
    "hello_programming(\"python\")"
   ]
  },
  {
   "cell_type": "code",
   "execution_count": 25,
   "id": "95d44e5d-7ea8-4870-bc84-4f0be6c0711f",
   "metadata": {},
   "outputs": [
    {
     "name": "stdout",
     "output_type": "stream",
     "text": [
      "hello\n",
      "Java\n"
     ]
    }
   ],
   "source": [
    "hello_programming(\"Java\")"
   ]
  },
  {
   "cell_type": "code",
   "execution_count": 27,
   "id": "349a2d17-622f-4c0d-8943-b173674bec2a",
   "metadata": {},
   "outputs": [],
   "source": [
    "def hello_prg(name=\"Python\"):\n",
    "    print(\"hello\")\n",
    "    print(name)"
   ]
  },
  {
   "cell_type": "code",
   "execution_count": 29,
   "id": "60975130-b467-4799-83c6-fcc3dc5a94da",
   "metadata": {},
   "outputs": [
    {
     "name": "stdout",
     "output_type": "stream",
     "text": [
      "hello\n",
      "Python\n"
     ]
    }
   ],
   "source": [
    "hello_prg()"
   ]
  },
  {
   "cell_type": "code",
   "execution_count": 31,
   "id": "855afff7-b8b1-4d21-9509-fab663122796",
   "metadata": {},
   "outputs": [
    {
     "name": "stdout",
     "output_type": "stream",
     "text": [
      "hello\n",
      "mert\n"
     ]
    }
   ],
   "source": [
    "hello_prg(\"mert\")"
   ]
  },
  {
   "cell_type": "code",
   "execution_count": 40,
   "id": "69e37fe0-bc06-49ab-b375-4d3ab3860d1e",
   "metadata": {},
   "outputs": [],
   "source": [
    "def summ (number1, number2):\n",
    "    number3= number1 + number2\n",
    "    print(number3)"
   ]
  },
  {
   "cell_type": "code",
   "execution_count": 42,
   "id": "abd46643-1859-4bd0-b16e-50b5eaa2b305",
   "metadata": {},
   "outputs": [
    {
     "name": "stdout",
     "output_type": "stream",
     "text": [
      "13\n"
     ]
    }
   ],
   "source": [
    "summ(5,8)"
   ]
  },
  {
   "cell_type": "code",
   "execution_count": 44,
   "id": "a248488f-2d18-401d-8ae1-d925244eb519",
   "metadata": {},
   "outputs": [
    {
     "name": "stdout",
     "output_type": "stream",
     "text": [
      "-490\n"
     ]
    }
   ],
   "source": [
    "summ(10,-500)"
   ]
  },
  {
   "cell_type": "markdown",
   "id": "697f7864-9fe3-479f-bfd9-971725e9bdc2",
   "metadata": {},
   "source": [
    "## Return"
   ]
  },
  {
   "cell_type": "code",
   "execution_count": 46,
   "id": "3c2dad39-67c3-428b-91d9-edba1d510633",
   "metadata": {},
   "outputs": [],
   "source": [
    "def summation(num1,num2,num3):\n",
    "    return num1+num2+num3"
   ]
  },
  {
   "cell_type": "markdown",
   "id": "2082011b-fdf8-4910-bcef-149599131525",
   "metadata": {},
   "source": [
    "summation(10,20,30)"
   ]
  },
  {
   "cell_type": "code",
   "execution_count": 52,
   "id": "8a6bca52-a4b3-4e77-80e1-68b9f2f82319",
   "metadata": {},
   "outputs": [],
   "source": [
    "my_result = summation(10,20,30)"
   ]
  },
  {
   "cell_type": "code",
   "execution_count": 57,
   "id": "7f6231f2-57f8-489d-b205-fd63e4e7144a",
   "metadata": {},
   "outputs": [
    {
     "data": {
      "text/plain": [
       "60"
      ]
     },
     "execution_count": 57,
     "metadata": {},
     "output_type": "execute_result"
    }
   ],
   "source": [
    "my_result"
   ]
  },
  {
   "cell_type": "code",
   "execution_count": 59,
   "id": "5a440d62-c537-481d-bac2-8458d45626b1",
   "metadata": {},
   "outputs": [
    {
     "name": "stdout",
     "output_type": "stream",
     "text": [
      "30\n"
     ]
    }
   ],
   "source": [
    "my_integer = summ(10,20)"
   ]
  },
  {
   "cell_type": "code",
   "execution_count": 61,
   "id": "57f72b54-5bd2-40f6-82c6-8a5d6f2566f4",
   "metadata": {},
   "outputs": [],
   "source": [
    "my_integer"
   ]
  },
  {
   "cell_type": "code",
   "execution_count": 63,
   "id": "9a11ff50-dc5d-493a-b4ab-e070e2f458fc",
   "metadata": {},
   "outputs": [
    {
     "data": {
      "text/plain": [
       "NoneType"
      ]
     },
     "execution_count": 63,
     "metadata": {},
     "output_type": "execute_result"
    }
   ],
   "source": [
    "type(my_integer)"
   ]
  },
  {
   "cell_type": "code",
   "execution_count": 65,
   "id": "ee48bbe8-c2f9-4557-bac3-19d652ce1814",
   "metadata": {},
   "outputs": [],
   "source": [
    "def control_string(s):\n",
    "    if s[0] == \"m\":\n",
    "        print(\"mmm\")"
   ]
  },
  {
   "cell_type": "code",
   "execution_count": 69,
   "id": "eb324488-cbc7-440b-b30e-0a5e147558a8",
   "metadata": {},
   "outputs": [],
   "source": [
    "control_string(\"paris\")"
   ]
  },
  {
   "cell_type": "code",
   "execution_count": 71,
   "id": "af3ff94a-523f-45b8-ad73-04762384a760",
   "metadata": {},
   "outputs": [
    {
     "name": "stdout",
     "output_type": "stream",
     "text": [
      "mmm\n"
     ]
    }
   ],
   "source": [
    "control_string(\"mert\")"
   ]
  },
  {
   "cell_type": "code",
   "execution_count": 73,
   "id": "c131cda7-61d7-4aa0-9f49-a04c114a53cc",
   "metadata": {},
   "outputs": [],
   "source": [
    "def control_string(s):\n",
    "    if s[0] == \"m\":\n",
    "        print(s.capitalize())"
   ]
  },
  {
   "cell_type": "code",
   "execution_count": 75,
   "id": "b0a32f78-c5a4-425e-9e5e-2ab4a9b0b396",
   "metadata": {},
   "outputs": [
    {
     "name": "stdout",
     "output_type": "stream",
     "text": [
      "Mert\n"
     ]
    }
   ],
   "source": [
    "control_string(\"mert\")"
   ]
  },
  {
   "cell_type": "markdown",
   "id": "4c34492a-5d78-4de6-a415-6a0a827b415f",
   "metadata": {},
   "source": [
    "## Arbitrary arguments & Key word arguments"
   ]
  },
  {
   "cell_type": "code",
   "execution_count": 3,
   "id": "f6d71da4-db9e-4cd7-916c-a0582a76fe8b",
   "metadata": {},
   "outputs": [],
   "source": [
    "def summation_2(num1,num2):\n",
    "    return num1 + num2"
   ]
  },
  {
   "cell_type": "code",
   "execution_count": 5,
   "id": "e2fecddc-693d-45e5-9156-fd4ae0c83629",
   "metadata": {},
   "outputs": [],
   "source": [
    "# *args"
   ]
  },
  {
   "cell_type": "code",
   "execution_count": 9,
   "id": "fdb15747-86bb-423e-a38d-ee0bcd0d5e4a",
   "metadata": {},
   "outputs": [],
   "source": [
    "def sumx2(*args):\n",
    "    return sum(args)"
   ]
  },
  {
   "cell_type": "code",
   "execution_count": 11,
   "id": "c5d69a66-fa23-4db1-a243-3effec37e180",
   "metadata": {},
   "outputs": [
    {
     "data": {
      "text/plain": [
       "60"
      ]
     },
     "execution_count": 11,
     "metadata": {},
     "output_type": "execute_result"
    }
   ],
   "source": [
    "sumx2(10,20,30)"
   ]
  },
  {
   "cell_type": "code",
   "execution_count": 13,
   "id": "6c7a38ba-22fd-4463-ae1d-87a1ff26334c",
   "metadata": {},
   "outputs": [
    {
     "data": {
      "text/plain": [
       "150"
      ]
     },
     "execution_count": 13,
     "metadata": {},
     "output_type": "execute_result"
    }
   ],
   "source": [
    "sumx2(10,20,30,40,50)"
   ]
  },
  {
   "cell_type": "code",
   "execution_count": 21,
   "id": "af8e3da2-5469-45fb-8a10-3473cf4c8f9c",
   "metadata": {},
   "outputs": [],
   "source": [
    "def my_func(*args): ##arg olayı ben ne verirsem onu alıyor ama esas olay yıldız işaretinde.\n",
    "    print(args)"
   ]
  },
  {
   "cell_type": "code",
   "execution_count": 17,
   "id": "417bcdc8-4ab5-439c-bd9c-cf0632b0dcba",
   "metadata": {},
   "outputs": [
    {
     "name": "stdout",
     "output_type": "stream",
     "text": [
      "(10, 20)\n"
     ]
    }
   ],
   "source": [
    "my_func(10,20)"
   ]
  },
  {
   "cell_type": "code",
   "execution_count": 19,
   "id": "fb025fcd-87fd-481d-8808-d7168183d962",
   "metadata": {},
   "outputs": [
    {
     "name": "stdout",
     "output_type": "stream",
     "text": [
      "('a', 'b', 1, 2)\n"
     ]
    }
   ],
   "source": [
    "my_func(\"a\",\"b\",1,2)"
   ]
  },
  {
   "cell_type": "code",
   "execution_count": 23,
   "id": "5ebb288a-6f68-4ab4-bccc-bc2d70e29f6b",
   "metadata": {},
   "outputs": [],
   "source": [
    "def my_func_2(*mert):\n",
    "    print(mert)"
   ]
  },
  {
   "cell_type": "code",
   "execution_count": 25,
   "id": "a7b6a7d3-bebf-4b90-a81d-7bc73e93e861",
   "metadata": {},
   "outputs": [
    {
     "name": "stdout",
     "output_type": "stream",
     "text": [
      "(10, 20, 30)\n"
     ]
    }
   ],
   "source": [
    "my_func_2(10,20,30)"
   ]
  },
  {
   "cell_type": "code",
   "execution_count": 27,
   "id": "bf03390e-eca1-43d4-a67a-23ef3e8889df",
   "metadata": {},
   "outputs": [],
   "source": [
    "def example_func(**kwargs):\n",
    "    print(kwargs)"
   ]
  },
  {
   "cell_type": "code",
   "execution_count": 29,
   "id": "adb80f8d-4bc1-4721-aba3-a1d939e98084",
   "metadata": {},
   "outputs": [
    {
     "name": "stdout",
     "output_type": "stream",
     "text": [
      "{'run': 100, 'walk': 50, 'swim': 200}\n"
     ]
    }
   ],
   "source": [
    "example_func(run=100,walk=50,swim=200)"
   ]
  },
  {
   "cell_type": "code",
   "execution_count": 31,
   "id": "e3162ced-794e-4a68-9039-603de9ba9d04",
   "metadata": {},
   "outputs": [],
   "source": [
    "def keyword_func(**kwargs):\n",
    "    if \"Mert\" in kwargs:\n",
    "        print(\"Mert MErt\")\n",
    "    else:\n",
    "        print(\".......\")"
   ]
  },
  {
   "cell_type": "code",
   "execution_count": 35,
   "id": "c7389dee-3707-4acd-8dc4-3d62e72a4de7",
   "metadata": {},
   "outputs": [
    {
     "name": "stdout",
     "output_type": "stream",
     "text": [
      "Mert MErt\n"
     ]
    }
   ],
   "source": [
    "keyword_func(Mert=10,Yrtx=20,ekksd=40)"
   ]
  },
  {
   "cell_type": "code",
   "execution_count": 37,
   "id": "22b6a655-3112-4303-9157-454bd59a2827",
   "metadata": {},
   "outputs": [
    {
     "name": "stdout",
     "output_type": "stream",
     "text": [
      ".......\n"
     ]
    }
   ],
   "source": [
    "keyword_func(xae=10,sjda=40)"
   ]
  },
  {
   "cell_type": "code",
   "execution_count": null,
   "id": "510bc78b-6a00-41d7-9e85-85af3d8295be",
   "metadata": {},
   "outputs": [],
   "source": []
  }
 ],
 "metadata": {
  "kernelspec": {
   "display_name": "Python 3 (ipykernel)",
   "language": "python",
   "name": "python3"
  },
  "language_info": {
   "codemirror_mode": {
    "name": "ipython",
    "version": 3
   },
   "file_extension": ".py",
   "mimetype": "text/x-python",
   "name": "python",
   "nbconvert_exporter": "python",
   "pygments_lexer": "ipython3",
   "version": "3.12.4"
  }
 },
 "nbformat": 4,
 "nbformat_minor": 5
}
