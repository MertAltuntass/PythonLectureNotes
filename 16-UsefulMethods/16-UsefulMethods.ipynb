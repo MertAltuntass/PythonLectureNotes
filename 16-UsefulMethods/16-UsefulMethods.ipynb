{
 "cells": [
  {
   "cell_type": "code",
   "execution_count": 2,
   "id": "6a6bfb50-8fc7-4bee-85a9-b5249af1e829",
   "metadata": {},
   "outputs": [],
   "source": [
    "my_list = [1,2,3,4,5,6,7]"
   ]
  },
  {
   "cell_type": "code",
   "execution_count": 4,
   "id": "1868c31e-5baa-40cc-a118-b5225bb6f92e",
   "metadata": {},
   "outputs": [
    {
     "name": "stdout",
     "output_type": "stream",
     "text": [
      "1\n",
      "2\n",
      "3\n",
      "4\n",
      "5\n",
      "6\n",
      "7\n"
     ]
    }
   ],
   "source": [
    "for number in my_list:\n",
    "    print(number)"
   ]
  },
  {
   "cell_type": "code",
   "execution_count": 6,
   "id": "7965d2f1-60eb-4160-946a-f98a1184af6e",
   "metadata": {},
   "outputs": [],
   "source": [
    "##daha verimli oluşturulmak istediğimiz anlar kalabilir."
   ]
  },
  {
   "cell_type": "code",
   "execution_count": 8,
   "id": "62473d06-8f0b-4808-86d3-f158d5d3a71e",
   "metadata": {},
   "outputs": [],
   "source": [
    "##built-in kendiliğinden gelen method demek"
   ]
  },
  {
   "cell_type": "markdown",
   "id": "3b65f3e7-286f-4cd4-ab80-b06907a79844",
   "metadata": {},
   "source": [
    "## Range"
   ]
  },
  {
   "cell_type": "code",
   "execution_count": 11,
   "id": "eb2576b3-5224-446f-8470-17e8f572c552",
   "metadata": {},
   "outputs": [
    {
     "data": {
      "text/plain": [
       "range(0, 20)"
      ]
     },
     "execution_count": 11,
     "metadata": {},
     "output_type": "execute_result"
    }
   ],
   "source": [
    "range(20)"
   ]
  },
  {
   "cell_type": "code",
   "execution_count": 13,
   "id": "f0f82b44-e523-4139-b2ab-c10a4688c36b",
   "metadata": {},
   "outputs": [
    {
     "data": {
      "text/plain": [
       "[0, 1, 2, 3, 4, 5, 6, 7, 8, 9, 10, 11, 12, 13, 14, 15, 16, 17, 18, 19]"
      ]
     },
     "execution_count": 13,
     "metadata": {},
     "output_type": "execute_result"
    }
   ],
   "source": [
    "list(range(20))"
   ]
  },
  {
   "cell_type": "code",
   "execution_count": 15,
   "id": "a9f8cc78-5609-4882-99b0-f7d2aba5fff6",
   "metadata": {},
   "outputs": [
    {
     "name": "stdout",
     "output_type": "stream",
     "text": [
      "0\n",
      "5\n",
      "10\n",
      "15\n",
      "20\n",
      "25\n",
      "30\n",
      "35\n",
      "40\n",
      "45\n",
      "50\n",
      "55\n",
      "60\n",
      "65\n",
      "70\n",
      "75\n",
      "80\n",
      "85\n",
      "90\n",
      "95\n"
     ]
    }
   ],
   "source": [
    "for number in list(range(20)):\n",
    "    print(number * 5)"
   ]
  },
  {
   "cell_type": "code",
   "execution_count": 17,
   "id": "170648f1-bb23-4521-baf9-113c27016f79",
   "metadata": {},
   "outputs": [
    {
     "name": "stdout",
     "output_type": "stream",
     "text": [
      "4\n",
      "5\n",
      "6\n",
      "7\n",
      "8\n",
      "9\n",
      "10\n",
      "11\n",
      "12\n",
      "13\n",
      "14\n",
      "15\n",
      "16\n",
      "17\n",
      "18\n",
      "19\n"
     ]
    }
   ],
   "source": [
    "for num in list (range(4,20)):\n",
    "    print(num)"
   ]
  },
  {
   "cell_type": "code",
   "execution_count": 19,
   "id": "6fea4d8c-e479-402b-aeb2-0e50a6de9858",
   "metadata": {},
   "outputs": [
    {
     "name": "stdout",
     "output_type": "stream",
     "text": [
      "5\n",
      "9\n",
      "13\n",
      "17\n"
     ]
    }
   ],
   "source": [
    "for num in list(range(5,21,4)):\n",
    "    print(num)"
   ]
  },
  {
   "cell_type": "markdown",
   "id": "50365a4a-ebbd-4797-baa7-3a54b298c078",
   "metadata": {},
   "source": [
    "## Enumerate"
   ]
  },
  {
   "cell_type": "code",
   "execution_count": 28,
   "id": "6a0f4d57-5f0f-4187-8734-ebffc0f3ab63",
   "metadata": {},
   "outputs": [
    {
     "name": "stdout",
     "output_type": "stream",
     "text": [
      "no: 5 ix: 0\n",
      "no: 6 ix: 1\n",
      "no: 7 ix: 2\n",
      "no: 8 ix: 3\n",
      "no: 9 ix: 4\n",
      "no: 10 ix: 5\n",
      "no: 11 ix: 6\n",
      "no: 12 ix: 7\n",
      "no: 13 ix: 8\n",
      "no: 14 ix: 9\n"
     ]
    }
   ],
   "source": [
    "index = 0\n",
    "for num in list(range(5,15)):\n",
    "    print(f\"no: {num} ix: {index}\")\n",
    "    index +=1"
   ]
  },
  {
   "cell_type": "code",
   "execution_count": 31,
   "id": "445b9f60-8c70-4cda-ad1d-3efb2da8ea6c",
   "metadata": {},
   "outputs": [
    {
     "name": "stdout",
     "output_type": "stream",
     "text": [
      "(0, 5)\n",
      "(1, 6)\n",
      "(2, 7)\n",
      "(3, 8)\n",
      "(4, 9)\n",
      "(5, 10)\n",
      "(6, 11)\n",
      "(7, 12)\n",
      "(8, 13)\n",
      "(9, 14)\n"
     ]
    }
   ],
   "source": [
    "for item in enumerate (list(range(5,15))):\n",
    "    print(item)"
   ]
  },
  {
   "cell_type": "code",
   "execution_count": 33,
   "id": "e3189cab-b80b-431a-9301-a6346434705d",
   "metadata": {},
   "outputs": [
    {
     "name": "stdout",
     "output_type": "stream",
     "text": [
      "0\n",
      "5\n",
      "1\n",
      "6\n",
      "2\n",
      "7\n",
      "3\n",
      "8\n",
      "4\n",
      "9\n",
      "5\n",
      "10\n",
      "6\n",
      "11\n",
      "7\n",
      "12\n",
      "8\n",
      "13\n",
      "9\n",
      "14\n"
     ]
    }
   ],
   "source": [
    "for (index,number) in enumerate(list(range(5,15))):\n",
    "    print(index)\n",
    "    print(number)"
   ]
  },
  {
   "cell_type": "markdown",
   "id": "47a03950-c910-46f9-85bc-0a6a873177f2",
   "metadata": {},
   "source": [
    "## Random"
   ]
  },
  {
   "cell_type": "code",
   "execution_count": 38,
   "id": "ef7177ea-9391-4478-9473-349860ce7b2b",
   "metadata": {},
   "outputs": [],
   "source": [
    "from random import randint ## random'un randint diye bir kütüphanesini buraya koydu."
   ]
  },
  {
   "cell_type": "code",
   "execution_count": 40,
   "id": "cd8a494b-2765-4aa2-becf-1381d0928e13",
   "metadata": {},
   "outputs": [
    {
     "data": {
      "text/plain": [
       "46"
      ]
     },
     "execution_count": 40,
     "metadata": {},
     "output_type": "execute_result"
    }
   ],
   "source": [
    "randint(0,1000)"
   ]
  },
  {
   "cell_type": "code",
   "execution_count": 42,
   "id": "5a8c0fa4-381e-48a9-ac86-3e3d2a406532",
   "metadata": {},
   "outputs": [
    {
     "data": {
      "text/plain": [
       "564"
      ]
     },
     "execution_count": 42,
     "metadata": {},
     "output_type": "execute_result"
    }
   ],
   "source": [
    "randint(0,1000)"
   ]
  },
  {
   "cell_type": "code",
   "execution_count": 44,
   "id": "cc637131-b020-4fd1-9f5f-b4edbc7705fb",
   "metadata": {},
   "outputs": [],
   "source": [
    "my_list_2 = list(range(0,10))"
   ]
  },
  {
   "cell_type": "code",
   "execution_count": 46,
   "id": "a735b3f1-ae85-4470-84a5-274aee19f0ac",
   "metadata": {},
   "outputs": [
    {
     "data": {
      "text/plain": [
       "[0, 1, 2, 3, 4, 5, 6, 7, 8, 9]"
      ]
     },
     "execution_count": 46,
     "metadata": {},
     "output_type": "execute_result"
    }
   ],
   "source": [
    "my_list_2"
   ]
  },
  {
   "cell_type": "code",
   "execution_count": 54,
   "id": "c5bda89f-10e2-46e9-b6fc-44d52cf27339",
   "metadata": {},
   "outputs": [],
   "source": [
    "from random import shuffle ##karıştır"
   ]
  },
  {
   "cell_type": "code",
   "execution_count": 50,
   "id": "38549e9a-0484-409e-94e1-7439e7014465",
   "metadata": {},
   "outputs": [],
   "source": [
    "shuffle(my_list_2)"
   ]
  },
  {
   "cell_type": "code",
   "execution_count": 52,
   "id": "bac5f353-6313-4997-b58b-614f1e6eb16d",
   "metadata": {},
   "outputs": [
    {
     "data": {
      "text/plain": [
       "[7, 4, 8, 1, 0, 6, 2, 3, 5, 9]"
      ]
     },
     "execution_count": 52,
     "metadata": {},
     "output_type": "execute_result"
    }
   ],
   "source": [
    "my_list_2"
   ]
  },
  {
   "cell_type": "markdown",
   "id": "de0b295e-76bb-44f0-8fcf-6ebf70fbb9da",
   "metadata": {},
   "source": [
    "## Zip"
   ]
  },
  {
   "cell_type": "code",
   "execution_count": 57,
   "id": "a0bf9595-4349-4f13-8bb3-07b678c0fc90",
   "metadata": {},
   "outputs": [],
   "source": [
    "## elimizde bir çok liste var ve bunları birleştirmek istiyoruz;"
   ]
  },
  {
   "cell_type": "code",
   "execution_count": 59,
   "id": "8d806089-67a4-49fd-9f0b-16e87554c328",
   "metadata": {},
   "outputs": [],
   "source": [
    "sport_list = [\"run\",\"swim\",\"basketball\"]"
   ]
  },
  {
   "cell_type": "code",
   "execution_count": 61,
   "id": "b7c51afd-4b96-419a-948e-b540d3e74913",
   "metadata": {},
   "outputs": [],
   "source": [
    "calories_list = [100,200,300]"
   ]
  },
  {
   "cell_type": "code",
   "execution_count": 63,
   "id": "31fe3864-1da7-4c05-b68a-2868294f0c09",
   "metadata": {},
   "outputs": [],
   "source": [
    "day_list = [\"monday\",\"tuesday\",\"wednesday\"]"
   ]
  },
  {
   "cell_type": "code",
   "execution_count": 65,
   "id": "5ea3518a-0f1d-4af1-89ca-1f6d3fe4e4c4",
   "metadata": {},
   "outputs": [
    {
     "data": {
      "text/plain": [
       "<zip at 0x1dbeb92a340>"
      ]
     },
     "execution_count": 65,
     "metadata": {},
     "output_type": "execute_result"
    }
   ],
   "source": [
    "zip(sport_list,calories_list,day_list)"
   ]
  },
  {
   "cell_type": "code",
   "execution_count": 67,
   "id": "06380cea-a953-4f88-a626-e1504de85c54",
   "metadata": {},
   "outputs": [],
   "source": [
    "new_list = zip(sport_list,calories_list,day_list)"
   ]
  },
  {
   "cell_type": "code",
   "execution_count": 69,
   "id": "3e4769ee-2b81-4900-9a41-2203122e15f0",
   "metadata": {},
   "outputs": [
    {
     "data": {
      "text/plain": [
       "<zip at 0x1dbeb92d680>"
      ]
     },
     "execution_count": 69,
     "metadata": {},
     "output_type": "execute_result"
    }
   ],
   "source": [
    "new_list"
   ]
  },
  {
   "cell_type": "code",
   "execution_count": 71,
   "id": "45a45254-499f-447e-a2fa-34990eed91a3",
   "metadata": {},
   "outputs": [],
   "source": [
    "new_list = list(zip(sport_list,calories_list,day_list))"
   ]
  },
  {
   "cell_type": "code",
   "execution_count": 73,
   "id": "0978ab6d-b502-48fe-8f67-96a85b5740f8",
   "metadata": {},
   "outputs": [
    {
     "data": {
      "text/plain": [
       "[('run', 100, 'monday'),\n",
       " ('swim', 200, 'tuesday'),\n",
       " ('basketball', 300, 'wednesday')]"
      ]
     },
     "execution_count": 73,
     "metadata": {},
     "output_type": "execute_result"
    }
   ],
   "source": [
    "new_list"
   ]
  },
  {
   "cell_type": "code",
   "execution_count": 75,
   "id": "cc9704f6-654a-403a-b072-dac89ec747eb",
   "metadata": {},
   "outputs": [
    {
     "name": "stdout",
     "output_type": "stream",
     "text": [
      "('run', 100, 'monday')\n",
      "('swim', 200, 'tuesday')\n",
      "('basketball', 300, 'wednesday')\n"
     ]
    }
   ],
   "source": [
    "for element in new_list:\n",
    "    print(element)"
   ]
  },
  {
   "cell_type": "markdown",
   "id": "966d2bf1-c7d5-4a3d-879b-d72e65e7638d",
   "metadata": {},
   "source": [
    "## List Advanced"
   ]
  },
  {
   "cell_type": "code",
   "execution_count": 84,
   "id": "7adafcf2-8ca3-4483-bc80-c40cd50d4126",
   "metadata": {},
   "outputs": [],
   "source": [
    "new_list= []\n",
    "my_string = \"martin garrix\"\n",
    "\n",
    "for element in my_string:\n",
    "    new_list.append(element)"
   ]
  },
  {
   "cell_type": "code",
   "execution_count": 86,
   "id": "530f0e86-6581-42ed-8a14-f5e01e570a9c",
   "metadata": {},
   "outputs": [
    {
     "data": {
      "text/plain": [
       "['m', 'a', 'r', 't', 'i', 'n', ' ', 'g', 'a', 'r', 'r', 'i', 'x']"
      ]
     },
     "execution_count": 86,
     "metadata": {},
     "output_type": "execute_result"
    }
   ],
   "source": [
    "new_list"
   ]
  },
  {
   "cell_type": "code",
   "execution_count": 92,
   "id": "87b84197-890b-472e-919b-af4ad1996502",
   "metadata": {},
   "outputs": [],
   "source": [
    "new_list = [element for element in my_string] ##append ettiğim için bu şekilde kullanabiliyoruz."
   ]
  },
  {
   "cell_type": "code",
   "execution_count": 90,
   "id": "800df413-e9c6-4c38-beb7-183c2ed9349b",
   "metadata": {},
   "outputs": [
    {
     "data": {
      "text/plain": [
       "['m', 'a', 'r', 't', 'i', 'n', ' ', 'g', 'a', 'r', 'r', 'i', 'x']"
      ]
     },
     "execution_count": 90,
     "metadata": {},
     "output_type": "execute_result"
    }
   ],
   "source": [
    "new_list"
   ]
  },
  {
   "cell_type": "code",
   "execution_count": 94,
   "id": "67f2ddee-5394-4099-981f-5858cbdae60b",
   "metadata": {},
   "outputs": [],
   "source": [
    "new_list_2 = [number for number in list(range(0,10))]"
   ]
  },
  {
   "cell_type": "code",
   "execution_count": 96,
   "id": "a8b52703-baaa-48bd-881c-2e9d51825dcb",
   "metadata": {},
   "outputs": [
    {
     "data": {
      "text/plain": [
       "[0, 1, 2, 3, 4, 5, 6, 7, 8, 9]"
      ]
     },
     "execution_count": 96,
     "metadata": {},
     "output_type": "execute_result"
    }
   ],
   "source": [
    "new_list_2"
   ]
  },
  {
   "cell_type": "code",
   "execution_count": null,
   "id": "5bad5f6c-63fb-47fa-b138-c558a6558c4a",
   "metadata": {},
   "outputs": [],
   "source": []
  }
 ],
 "metadata": {
  "kernelspec": {
   "display_name": "Python 3 (ipykernel)",
   "language": "python",
   "name": "python3"
  },
  "language_info": {
   "codemirror_mode": {
    "name": "ipython",
    "version": 3
   },
   "file_extension": ".py",
   "mimetype": "text/x-python",
   "name": "python",
   "nbconvert_exporter": "python",
   "pygments_lexer": "ipython3",
   "version": "3.12.4"
  }
 },
 "nbformat": 4,
 "nbformat_minor": 5
}
