{
 "cells": [
  {
   "cell_type": "code",
   "execution_count": 1,
   "id": "5db5fdd8-8144-43ff-8e41-91c31ca67ba4",
   "metadata": {},
   "outputs": [],
   "source": [
    "# 1) Aşağıdaki String'in 5. harfini my_letter isimli bir değişkene atayınız."
   ]
  },
  {
   "cell_type": "code",
   "execution_count": 4,
   "id": "079de6e4-0b19-4afc-9b9b-5ee35bc783ad",
   "metadata": {},
   "outputs": [],
   "source": [
    "my_string = \"James Hetfield\""
   ]
  },
  {
   "cell_type": "code",
   "execution_count": 6,
   "id": "7780df33-02a0-4ce8-b07d-14d6a936c8ec",
   "metadata": {},
   "outputs": [],
   "source": [
    "# Cevap 1)"
   ]
  },
  {
   "cell_type": "code",
   "execution_count": 213,
   "id": "d18ecb80-195f-45fd-ae92-3d06a40e7adf",
   "metadata": {},
   "outputs": [],
   "source": [
    "my_letter= my_string[4]"
   ]
  },
  {
   "cell_type": "code",
   "execution_count": 215,
   "id": "00028c42-294a-4f2f-9b9c-ce3f8a31a989",
   "metadata": {},
   "outputs": [
    {
     "data": {
      "text/plain": [
       "'s'"
      ]
     },
     "execution_count": 215,
     "metadata": {},
     "output_type": "execute_result"
    }
   ],
   "source": [
    "my_letter"
   ]
  },
  {
   "cell_type": "code",
   "execution_count": 18,
   "id": "0c1bb488-e2b3-4b23-ace2-4d9b736eb01c",
   "metadata": {},
   "outputs": [],
   "source": [
    "# Aşağıdaki String'in 5. ve 8. karakteri arasındaki tüm harflerini yazdırınız (5 ve 8 dahil)"
   ]
  },
  {
   "cell_type": "code",
   "execution_count": 20,
   "id": "3936761c-00dc-42fd-b8c5-67c8547ae7ef",
   "metadata": {},
   "outputs": [],
   "source": [
    "my_new_string = \"QuentinTarantino\""
   ]
  },
  {
   "cell_type": "code",
   "execution_count": 22,
   "id": "aa9dd2dc-3490-4141-b434-66f0514cd021",
   "metadata": {},
   "outputs": [],
   "source": [
    "# Cevap 2)"
   ]
  },
  {
   "cell_type": "code",
   "execution_count": 219,
   "id": "436f1367-a705-4dc9-8d62-c45843f2afbd",
   "metadata": {},
   "outputs": [
    {
     "data": {
      "text/plain": [
       "'tinT'"
      ]
     },
     "execution_count": 219,
     "metadata": {},
     "output_type": "execute_result"
    }
   ],
   "source": [
    "my_new_string[4:8]"
   ]
  },
  {
   "cell_type": "code",
   "execution_count": 26,
   "id": "f7fc5667-3806-4195-8bf0-5d9907b32aa9",
   "metadata": {},
   "outputs": [],
   "source": [
    "# Aşağıdaki String'i kod ile tersten yazın"
   ]
  },
  {
   "cell_type": "code",
   "execution_count": 28,
   "id": "ac78694c-8933-45fc-9d5a-ed6ace4d23bb",
   "metadata": {},
   "outputs": [],
   "source": [
    "my_last_string = \"Afyonkarahisarlılaştıramadıklarımızdanmısınız\""
   ]
  },
  {
   "cell_type": "code",
   "execution_count": 30,
   "id": "8b2e060f-5a5c-448e-8ff9-fd5c7faa9a61",
   "metadata": {},
   "outputs": [],
   "source": [
    "# Cevap 3)"
   ]
  },
  {
   "cell_type": "code",
   "execution_count": 54,
   "id": "e32953a7-e0d7-4ee8-8175-9c82101a0126",
   "metadata": {},
   "outputs": [
    {
     "data": {
      "text/plain": [
       "'zınısımnadzımıralkıdamarıtşalılrasiharaknoyfA'"
      ]
     },
     "execution_count": 54,
     "metadata": {},
     "output_type": "execute_result"
    }
   ],
   "source": [
    "my_last_string[::-1]"
   ]
  },
  {
   "cell_type": "markdown",
   "id": "0283fa48-7a1f-40fd-8675-e274cb7f7c22",
   "metadata": {},
   "source": [
    "Integer & Float"
   ]
  },
  {
   "cell_type": "code",
   "execution_count": 57,
   "id": "248af573-943b-41cb-af45-d2c659056a8f",
   "metadata": {},
   "outputs": [],
   "source": [
    "# 1) Aşağıdaki işlemin sonucu hangi veri tipinde olacaktır?"
   ]
  },
  {
   "cell_type": "code",
   "execution_count": 59,
   "id": "7efb1f87-d3e4-4e97-87b8-0e643bdb7b01",
   "metadata": {},
   "outputs": [
    {
     "data": {
      "text/plain": [
       "63.2"
      ]
     },
     "execution_count": 59,
     "metadata": {},
     "output_type": "execute_result"
    }
   ],
   "source": [
    "3 + 10.2 + 50"
   ]
  },
  {
   "cell_type": "code",
   "execution_count": 61,
   "id": "639c71f6-d024-4a07-9417-87e33420f38f",
   "metadata": {},
   "outputs": [],
   "source": [
    "# Cevap 1)"
   ]
  },
  {
   "cell_type": "code",
   "execution_count": 63,
   "id": "770a6b11-11de-4428-b36b-2c6e64a7fc37",
   "metadata": {},
   "outputs": [],
   "source": [
    "x = 3 + 10.2 + 50"
   ]
  },
  {
   "cell_type": "code",
   "execution_count": 65,
   "id": "e397ca52-28d3-4685-bc4f-202a8fe0fc90",
   "metadata": {},
   "outputs": [
    {
     "data": {
      "text/plain": [
       "float"
      ]
     },
     "execution_count": 65,
     "metadata": {},
     "output_type": "execute_result"
    }
   ],
   "source": [
    "type(x)"
   ]
  },
  {
   "cell_type": "code",
   "execution_count": 67,
   "id": "ce56fb19-6a63-494a-838e-dbb753aabd9c",
   "metadata": {},
   "outputs": [],
   "source": [
    "# 2) Aşağıdaki işlemin sonucu kaçtır?"
   ]
  },
  {
   "cell_type": "code",
   "execution_count": 69,
   "id": "d3b6506f-7798-4461-b3ab-cd7691ee9b12",
   "metadata": {},
   "outputs": [],
   "source": [
    "x = 5 + 8 * 12"
   ]
  },
  {
   "cell_type": "code",
   "execution_count": 71,
   "id": "7e061ecc-cf9b-4cda-915a-41de5ba81e62",
   "metadata": {},
   "outputs": [
    {
     "data": {
      "text/plain": [
       "101"
      ]
     },
     "execution_count": 71,
     "metadata": {},
     "output_type": "execute_result"
    }
   ],
   "source": [
    "x"
   ]
  },
  {
   "cell_type": "markdown",
   "id": "95580ebc-9412-4c57-9f8a-3b1b553c39c6",
   "metadata": {},
   "source": [
    "List & Dictionary & Set"
   ]
  },
  {
   "cell_type": "code",
   "execution_count": 74,
   "id": "1ebb1722-f4c2-440f-82ee-fb37f3e5bb6f",
   "metadata": {},
   "outputs": [],
   "source": [
    "# 1) Bu listeyi 3 farklı yoldan oluşturunuz: [1,2,\"a\"] burayı yanlış anladığım için yanlışımıda bırakıyorum ve doğrusunu ekliyorum."
   ]
  },
  {
   "cell_type": "code",
   "execution_count": 76,
   "id": "4d5a06fa-323b-4e0d-b7cd-e7e4b08149d8",
   "metadata": {},
   "outputs": [],
   "source": [
    "# Cevap 1.a)"
   ]
  },
  {
   "cell_type": "code",
   "execution_count": 78,
   "id": "d4a07c81-5577-43ed-af04-b96f6cfbbf8c",
   "metadata": {},
   "outputs": [],
   "source": [
    "my_list= [1,2,\"a\"]"
   ]
  },
  {
   "cell_type": "code",
   "execution_count": 80,
   "id": "93e16b50-23eb-49fd-b2e5-90f22dae0b76",
   "metadata": {},
   "outputs": [
    {
     "data": {
      "text/plain": [
       "[1, 2, 'a']"
      ]
     },
     "execution_count": 80,
     "metadata": {},
     "output_type": "execute_result"
    }
   ],
   "source": [
    "my_list"
   ]
  },
  {
   "cell_type": "code",
   "execution_count": 82,
   "id": "49b14859-ed70-4736-b137-3bbb695b6b27",
   "metadata": {},
   "outputs": [],
   "source": [
    "# Cevap 1.b)"
   ]
  },
  {
   "cell_type": "code",
   "execution_count": 84,
   "id": "284f241c-7a73-4417-968d-490e838d5c55",
   "metadata": {},
   "outputs": [],
   "source": [
    "my_dic={1,2,\"a\"}"
   ]
  },
  {
   "cell_type": "code",
   "execution_count": 86,
   "id": "0c105140-3899-49c1-b842-2a87f9dc98d3",
   "metadata": {},
   "outputs": [
    {
     "data": {
      "text/plain": [
       "{1, 2, 'a'}"
      ]
     },
     "execution_count": 86,
     "metadata": {},
     "output_type": "execute_result"
    }
   ],
   "source": [
    "my_dic"
   ]
  },
  {
   "cell_type": "code",
   "execution_count": 88,
   "id": "878acdc8-aa52-4b9c-b76a-5bc4c1a34271",
   "metadata": {},
   "outputs": [],
   "source": [
    "# Cevap 1.c)"
   ]
  },
  {
   "cell_type": "code",
   "execution_count": 90,
   "id": "ab91602c-3c38-447e-b636-bd63b88e5ed5",
   "metadata": {},
   "outputs": [],
   "source": [
    "my_set = [1,2,\"a\"]"
   ]
  },
  {
   "cell_type": "code",
   "execution_count": 92,
   "id": "d0151d53-e3f3-4cb9-a991-2577fe78f02c",
   "metadata": {},
   "outputs": [
    {
     "data": {
      "text/plain": [
       "[1, 2, 'a']"
      ]
     },
     "execution_count": 92,
     "metadata": {},
     "output_type": "execute_result"
    }
   ],
   "source": [
    "my_set"
   ]
  },
  {
   "cell_type": "code",
   "execution_count": null,
   "id": "5c550a16-da9d-4b0b-9453-bbb4abb5419a",
   "metadata": {},
   "outputs": [],
   "source": [
    "##doğrusu"
   ]
  },
  {
   "cell_type": "code",
   "execution_count": 223,
   "id": "c6cd6f87-3d85-4f50-87a2-b7dc8b3cb630",
   "metadata": {},
   "outputs": [],
   "source": [
    "my_list_1 = [1,2,\"a\"]"
   ]
  },
  {
   "cell_type": "code",
   "execution_count": 225,
   "id": "3735df66-a719-47e1-8664-39ab60a5e65e",
   "metadata": {},
   "outputs": [],
   "source": [
    "my_list_2 = []"
   ]
  },
  {
   "cell_type": "code",
   "execution_count": 227,
   "id": "e67d1143-ccec-4152-ba6c-b20b9f845694",
   "metadata": {},
   "outputs": [],
   "source": [
    "my_list_2.append(1)"
   ]
  },
  {
   "cell_type": "code",
   "execution_count": 229,
   "id": "9a4c96bb-3f19-4461-b9db-94ca9ee54472",
   "metadata": {},
   "outputs": [],
   "source": [
    "my_list_2.append(2)"
   ]
  },
  {
   "cell_type": "code",
   "execution_count": 231,
   "id": "9d776e4a-cc87-47ad-996c-751fb50c4ff8",
   "metadata": {},
   "outputs": [],
   "source": [
    "my_list_2.append(\"a\")"
   ]
  },
  {
   "cell_type": "code",
   "execution_count": 233,
   "id": "6aea81d6-ff2b-4720-b69b-1bc6f992f23a",
   "metadata": {},
   "outputs": [
    {
     "data": {
      "text/plain": [
       "[1, 2, 'a']"
      ]
     },
     "execution_count": 233,
     "metadata": {},
     "output_type": "execute_result"
    }
   ],
   "source": [
    "my_list_2"
   ]
  },
  {
   "cell_type": "code",
   "execution_count": 235,
   "id": "0f0acfa2-867a-49d4-804b-bd1b50bcea87",
   "metadata": {},
   "outputs": [],
   "source": [
    "my_list_3 = list()"
   ]
  },
  {
   "cell_type": "code",
   "execution_count": 237,
   "id": "3bb4e78f-63d6-4964-9958-6e64c45f77e0",
   "metadata": {},
   "outputs": [],
   "source": [
    "my_list_3.append(1)"
   ]
  },
  {
   "cell_type": "code",
   "execution_count": 239,
   "id": "a33bd980-ba4b-4ca3-8629-a9d16d5753ec",
   "metadata": {},
   "outputs": [],
   "source": [
    "my_list_3.append(2)"
   ]
  },
  {
   "cell_type": "code",
   "execution_count": 241,
   "id": "3396d327-7ed8-40d5-970f-1875995f2b57",
   "metadata": {},
   "outputs": [],
   "source": [
    "my_list_3.append(\"a\")"
   ]
  },
  {
   "cell_type": "code",
   "execution_count": 243,
   "id": "a24f561c-0556-414e-a354-ee039319d700",
   "metadata": {},
   "outputs": [
    {
     "data": {
      "text/plain": [
       "[1, 2, 'a']"
      ]
     },
     "execution_count": 243,
     "metadata": {},
     "output_type": "execute_result"
    }
   ],
   "source": [
    "my_list_3"
   ]
  },
  {
   "cell_type": "code",
   "execution_count": 94,
   "id": "8cb04c40-f187-46ee-9e6e-571fedefadbf",
   "metadata": {},
   "outputs": [],
   "source": [
    "# 2) Aşağıdaki \"a\"'yı tek satırda alınız:"
   ]
  },
  {
   "cell_type": "code",
   "execution_count": 96,
   "id": "3433ad68-5fa6-4a51-affe-06cd087489d7",
   "metadata": {},
   "outputs": [],
   "source": [
    "my_list = [1,4,[2,3,\"a\"]]"
   ]
  },
  {
   "cell_type": "code",
   "execution_count": 130,
   "id": "2d733a87-2016-4440-b7b7-545c4f50e00f",
   "metadata": {},
   "outputs": [
    {
     "data": {
      "text/plain": [
       "'a'"
      ]
     },
     "execution_count": 130,
     "metadata": {},
     "output_type": "execute_result"
    }
   ],
   "source": [
    "my_list[2][2]"
   ]
  },
  {
   "cell_type": "code",
   "execution_count": 132,
   "id": "0ced744c-f89e-41e1-bd75-3d879c4c7ea3",
   "metadata": {},
   "outputs": [],
   "source": [
    "# 3) Aşağıdaki \"b\"'yi tek satırda alınız:"
   ]
  },
  {
   "cell_type": "code",
   "execution_count": 247,
   "id": "3a2a7587-1092-47a5-a70a-cb37c76a7a4c",
   "metadata": {},
   "outputs": [],
   "source": [
    "my_dictionary = {\"k1\":2, \"kk\":[4,{\"kkkk\":\"b\"}]} ##buna bakayım"
   ]
  },
  {
   "cell_type": "code",
   "execution_count": 251,
   "id": "f4b33dbd-6f86-468a-bad5-97202a831d17",
   "metadata": {},
   "outputs": [
    {
     "data": {
      "text/plain": [
       "'b'"
      ]
     },
     "execution_count": 251,
     "metadata": {},
     "output_type": "execute_result"
    }
   ],
   "source": [
    "my_dictionary[\"kk\"][1][\"kkkk\"]"
   ]
  },
  {
   "cell_type": "code",
   "execution_count": 178,
   "id": "db06d39b-f0cc-49e7-b151-d0efad8fa6f0",
   "metadata": {},
   "outputs": [],
   "source": [
    "# 4) Aşağıdaki liste set'e çevirilince hangi değerler içinde kalacaktır?"
   ]
  },
  {
   "cell_type": "code",
   "execution_count": 184,
   "id": "0a3d7e26-aa34-412c-a604-6e37cdc865f1",
   "metadata": {},
   "outputs": [],
   "source": [
    "my_list_to_be_set = [11,12,22,33,11,22,45,32,21,22,33,45] #set olunca 1'den fazla değerleri kabul etmiyor bu yüzden 1 adet olanlar kalacaktır."
   ]
  },
  {
   "cell_type": "code",
   "execution_count": 194,
   "id": "b6876357-ca28-4230-90b0-ef51e11d8fee",
   "metadata": {},
   "outputs": [
    {
     "data": {
      "text/plain": [
       "[11, 12, 22, 33, 11, 22, 45, 32, 21, 22, 33, 45]"
      ]
     },
     "execution_count": 194,
     "metadata": {},
     "output_type": "execute_result"
    }
   ],
   "source": [
    "my_list_to_be_set"
   ]
  },
  {
   "cell_type": "markdown",
   "id": "8503822f-e238-4f98-bdf5-2e8a94badcf3",
   "metadata": {},
   "source": [
    "Boolean"
   ]
  },
  {
   "cell_type": "code",
   "execution_count": 197,
   "id": "88c71911-e072-46e4-b284-965582487e18",
   "metadata": {},
   "outputs": [],
   "source": [
    "# 1) Aşağıdaki ifadenin sonucu ne olacaktır?"
   ]
  },
  {
   "cell_type": "code",
   "execution_count": 199,
   "id": "53fb072c-89b2-4fe6-b63b-55ac7b248019",
   "metadata": {},
   "outputs": [],
   "source": [
    "x = 40 * 5 + 3"
   ]
  },
  {
   "cell_type": "code",
   "execution_count": 201,
   "id": "91b7a2ef-db58-4493-80bb-11badaed146b",
   "metadata": {},
   "outputs": [],
   "source": [
    "y = 208 - 2 * 4"
   ]
  },
  {
   "cell_type": "code",
   "execution_count": 203,
   "id": "a9d3cbf9-d465-4add-a2be-4a407fc8f4f7",
   "metadata": {},
   "outputs": [
    {
     "data": {
      "text/plain": [
       "True"
      ]
     },
     "execution_count": 203,
     "metadata": {},
     "output_type": "execute_result"
    }
   ],
   "source": [
    "x > y"
   ]
  },
  {
   "cell_type": "code",
   "execution_count": 205,
   "id": "8eefa62d-c1ff-4d75-9c53-e81406617fc0",
   "metadata": {},
   "outputs": [],
   "source": [
    "# 2) Aşağıdaki ifadenin sonucu ne olacaktır?"
   ]
  },
  {
   "cell_type": "code",
   "execution_count": 207,
   "id": "3cecbd76-d5ed-4611-9b16-ea8bb3684ad5",
   "metadata": {},
   "outputs": [],
   "source": [
    "a = 40 * (4 - 2)"
   ]
  },
  {
   "cell_type": "code",
   "execution_count": 209,
   "id": "f177bcf2-8dc8-4f98-8602-3250ec822e4a",
   "metadata": {},
   "outputs": [],
   "source": [
    "b = 80 - 2 * -5"
   ]
  },
  {
   "cell_type": "code",
   "execution_count": 211,
   "id": "db2cea61-f3ad-41fe-9201-d2135611d4b2",
   "metadata": {},
   "outputs": [
    {
     "data": {
      "text/plain": [
       "False"
      ]
     },
     "execution_count": 211,
     "metadata": {},
     "output_type": "execute_result"
    }
   ],
   "source": [
    "a > b"
   ]
  },
  {
   "cell_type": "code",
   "execution_count": null,
   "id": "6bfa4a32-ca15-4ed0-af14-58108ea774eb",
   "metadata": {},
   "outputs": [],
   "source": []
  }
 ],
 "metadata": {
  "kernelspec": {
   "display_name": "Python 3 (ipykernel)",
   "language": "python",
   "name": "python3"
  },
  "language_info": {
   "codemirror_mode": {
    "name": "ipython",
    "version": 3
   },
   "file_extension": ".py",
   "mimetype": "text/x-python",
   "name": "python",
   "nbconvert_exporter": "python",
   "pygments_lexer": "ipython3",
   "version": "3.12.4"
  }
 },
 "nbformat": 4,
 "nbformat_minor": 5
}
