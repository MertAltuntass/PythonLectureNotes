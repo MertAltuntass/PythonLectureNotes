{
 "cells": [
  {
   "cell_type": "code",
   "execution_count": 2,
   "id": "0fc154d3-3720-4153-80b3-0c32980f6a1e",
   "metadata": {},
   "outputs": [],
   "source": [
    "def divide(number):\n",
    "    return number / 2 "
   ]
  },
  {
   "cell_type": "code",
   "execution_count": 4,
   "id": "eee4e7ba-02e1-4ca1-bb42-404686704eac",
   "metadata": {},
   "outputs": [
    {
     "data": {
      "text/plain": [
       "5.0"
      ]
     },
     "execution_count": 4,
     "metadata": {},
     "output_type": "execute_result"
    }
   ],
   "source": [
    "divide(10)"
   ]
  },
  {
   "cell_type": "markdown",
   "id": "07dcfbf7-3ad9-40c7-b636-df580b60f574",
   "metadata": {},
   "source": [
    "my_list = [1,2,3,4,5,6,7,8]"
   ]
  },
  {
   "cell_type": "code",
   "execution_count": 10,
   "id": "21db12dd-faca-460b-bfeb-e19c5ed7ff08",
   "metadata": {},
   "outputs": [
    {
     "name": "stdout",
     "output_type": "stream",
     "text": [
      "0.5\n",
      "1.0\n",
      "1.5\n",
      "2.0\n",
      "2.5\n",
      "3.0\n",
      "3.5\n",
      "4.0\n"
     ]
    }
   ],
   "source": [
    "for num in my_list:\n",
    "    print(divide(num))"
   ]
  },
  {
   "cell_type": "markdown",
   "id": "adc22b1a-a155-4fdd-bbc0-bfc0ae143c4e",
   "metadata": {},
   "source": [
    "## Map"
   ]
  },
  {
   "cell_type": "code",
   "execution_count": 13,
   "id": "38c5617a-267b-4825-a328-6a8a3697b6e9",
   "metadata": {},
   "outputs": [
    {
     "data": {
      "text/plain": [
       "[0.5, 1.0, 1.5, 2.0, 2.5, 3.0, 3.5, 4.0]"
      ]
     },
     "execution_count": 13,
     "metadata": {},
     "output_type": "execute_result"
    }
   ],
   "source": [
    "list(map(divide,my_list))"
   ]
  },
  {
   "cell_type": "code",
   "execution_count": 15,
   "id": "0d48d932-73da-4eba-abe5-12604b4d0b75",
   "metadata": {},
   "outputs": [],
   "source": [
    "def control_string(string):\n",
    "    if \"Mert\" in string:\n",
    "        return True"
   ]
  },
  {
   "cell_type": "code",
   "execution_count": 17,
   "id": "6b793f8c-4a88-444e-9349-8c193f6f8782",
   "metadata": {},
   "outputs": [
    {
     "data": {
      "text/plain": [
       "True"
      ]
     },
     "execution_count": 17,
     "metadata": {},
     "output_type": "execute_result"
    }
   ],
   "source": [
    "control_string(\"Mert\")"
   ]
  },
  {
   "cell_type": "code",
   "execution_count": 21,
   "id": "532e8e8d-0fce-4d3b-bedd-2f09bb781138",
   "metadata": {},
   "outputs": [],
   "source": [
    "def control_string(string):\n",
    "    return \"Mert\" in string\n",
    "         "
   ]
  },
  {
   "cell_type": "code",
   "execution_count": 23,
   "id": "03d76ebb-233d-40e4-b375-069911c4be3c",
   "metadata": {},
   "outputs": [
    {
     "data": {
      "text/plain": [
       "True"
      ]
     },
     "execution_count": 23,
     "metadata": {},
     "output_type": "execute_result"
    }
   ],
   "source": [
    "control_string(\"Mert\")"
   ]
  },
  {
   "cell_type": "code",
   "execution_count": 25,
   "id": "92340c4c-5aaa-406c-8d2b-df7e13f78f8c",
   "metadata": {},
   "outputs": [],
   "source": [
    "my_artist_list = [\"Mert\",\"Martin\",\"Queen\"]"
   ]
  },
  {
   "cell_type": "code",
   "execution_count": 27,
   "id": "cda4f4d4-65fc-404c-baf1-18c8a27c0fc5",
   "metadata": {},
   "outputs": [
    {
     "data": {
      "text/plain": [
       "[True, False, False]"
      ]
     },
     "execution_count": 27,
     "metadata": {},
     "output_type": "execute_result"
    }
   ],
   "source": [
    "list(map(control_string,my_artist_list))"
   ]
  },
  {
   "cell_type": "markdown",
   "id": "28b08f1f-55a5-4c99-82c2-b341283ace9b",
   "metadata": {},
   "source": [
    "## Filter"
   ]
  },
  {
   "cell_type": "code",
   "execution_count": 30,
   "id": "e5506ebb-3c4e-4b56-befe-3badbac11ebc",
   "metadata": {},
   "outputs": [
    {
     "data": {
      "text/plain": [
       "['Mert']"
      ]
     },
     "execution_count": 30,
     "metadata": {},
     "output_type": "execute_result"
    }
   ],
   "source": [
    "list(filter(control_string,my_artist_list))"
   ]
  },
  {
   "cell_type": "markdown",
   "id": "2d327f3c-1a6e-49c1-948a-e7e0d42ef40a",
   "metadata": {},
   "source": [
    "## Lambda"
   ]
  },
  {
   "cell_type": "code",
   "execution_count": 33,
   "id": "16634168-b54e-4bf5-9c50-a51dcd235790",
   "metadata": {},
   "outputs": [],
   "source": [
    "def multi(number):  \n",
    "    return number *3 "
   ]
  },
  {
   "cell_type": "code",
   "execution_count": 35,
   "id": "7a0d444b-a09c-4d7d-8ec4-68bc5102b0a7",
   "metadata": {},
   "outputs": [
    {
     "data": {
      "text/plain": [
       "15"
      ]
     },
     "execution_count": 35,
     "metadata": {},
     "output_type": "execute_result"
    }
   ],
   "source": [
    "multi(5)"
   ]
  },
  {
   "cell_type": "code",
   "execution_count": 37,
   "id": "74ac32a1-863c-4f77-9fc1-bb8bcf694d92",
   "metadata": {},
   "outputs": [],
   "source": [
    "##def sumi(number): return sumi + 3 ## sadece 1 kere kullanıcam her yerde çağırmayacağım zaman kullanabilirim ve bu gösterimler böyle tek satırda yazılıyor."
   ]
  },
  {
   "cell_type": "code",
   "execution_count": 39,
   "id": "cacb1ae3-b3c4-4377-b723-9a74aa1c8d1d",
   "metadata": {},
   "outputs": [],
   "source": [
    "sumi = lambda number:number + 3"
   ]
  },
  {
   "cell_type": "code",
   "execution_count": 41,
   "id": "cf2f06e0-4189-4531-b68f-421290915188",
   "metadata": {},
   "outputs": [
    {
     "data": {
      "text/plain": [
       "6"
      ]
     },
     "execution_count": 41,
     "metadata": {},
     "output_type": "execute_result"
    }
   ],
   "source": [
    "sumi(3)"
   ]
  },
  {
   "cell_type": "code",
   "execution_count": null,
   "id": "656423e3-c36e-41fe-9c74-f2a38090ad39",
   "metadata": {},
   "outputs": [],
   "source": []
  }
 ],
 "metadata": {
  "kernelspec": {
   "display_name": "Python 3 (ipykernel)",
   "language": "python",
   "name": "python3"
  },
  "language_info": {
   "codemirror_mode": {
    "name": "ipython",
    "version": 3
   },
   "file_extension": ".py",
   "mimetype": "text/x-python",
   "name": "python",
   "nbconvert_exporter": "python",
   "pygments_lexer": "ipython3",
   "version": "3.12.4"
  }
 },
 "nbformat": 4,
 "nbformat_minor": 5
}
