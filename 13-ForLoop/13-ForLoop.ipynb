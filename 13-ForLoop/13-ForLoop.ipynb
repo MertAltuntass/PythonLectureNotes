{
 "cells": [
  {
   "cell_type": "code",
   "execution_count": 2,
   "id": "a021da1a-9491-4062-9a9f-d9586575da41",
   "metadata": {},
   "outputs": [],
   "source": [
    "##genelde listelerde kullanılıyor."
   ]
  },
  {
   "cell_type": "code",
   "execution_count": 4,
   "id": "e61878dc-ecd4-4891-8c2d-821f367805fa",
   "metadata": {},
   "outputs": [],
   "source": [
    "my_list = [1,2,3,4,5]"
   ]
  },
  {
   "cell_type": "code",
   "execution_count": 6,
   "id": "f0fbfecb-e83e-488d-b22f-e32f99c0343e",
   "metadata": {},
   "outputs": [],
   "source": [
    "##bu listenin içerisindeki her bir elemanı tek tek ele aldığımız ve bunlar için tek tek işlem yaptığımız arkadaşa for deniyor"
   ]
  },
  {
   "cell_type": "code",
   "execution_count": 16,
   "id": "27be3ce5-256e-4000-a517-f1f288fde4a5",
   "metadata": {},
   "outputs": [
    {
     "name": "stdout",
     "output_type": "stream",
     "text": [
      "Mert ALTUNTAS\n",
      "Mert ALTUNTAS\n",
      "Mert ALTUNTAS\n",
      "Mert ALTUNTAS\n",
      "Mert ALTUNTAS\n"
     ]
    }
   ],
   "source": [
    "for number in my_list:##her bir eleman için benim ismimi print etti\n",
    "    print(\"Mert ALTUNTAS\")##number hiç kullanmadık"
   ]
  },
  {
   "cell_type": "code",
   "execution_count": 18,
   "id": "f572f825-6bf4-449b-8afd-d9a76525c513",
   "metadata": {},
   "outputs": [
    {
     "name": "stdout",
     "output_type": "stream",
     "text": [
      "1\n",
      "2\n",
      "3\n",
      "4\n",
      "5\n"
     ]
    }
   ],
   "source": [
    "for number in my_list:\n",
    "    print(number)"
   ]
  },
  {
   "cell_type": "code",
   "execution_count": 20,
   "id": "30926f30-5bb5-41dc-82eb-bacc14b89cb1",
   "metadata": {},
   "outputs": [
    {
     "name": "stdout",
     "output_type": "stream",
     "text": [
      "5\n",
      "10\n",
      "15\n",
      "20\n",
      "25\n"
     ]
    }
   ],
   "source": [
    "for item in my_list:\n",
    "    new_number = item * 5\n",
    "    print(new_number)"
   ]
  },
  {
   "cell_type": "code",
   "execution_count": 30,
   "id": "55cfb000-8bd7-4310-aece-aef166a7810f",
   "metadata": {},
   "outputs": [
    {
     "name": "stdout",
     "output_type": "stream",
     "text": [
      "1\n",
      "0\n",
      "1\n",
      "0\n",
      "1\n"
     ]
    }
   ],
   "source": [
    "for number in my_list: ## 2 bölündüğünde 0 olanları yazdır denildi ama ben 2 ile tam bölünenleri buldum hangi sayılar olduğunu bulmak için yukarı bakmak zorunda kaldım :D \n",
    "    cift = number % 2 ## doğrusu bir alt satırda\n",
    "    print(cift)"
   ]
  },
  {
   "cell_type": "code",
   "execution_count": 36,
   "id": "328b921b-ce19-4e8c-a28f-37d0534537b5",
   "metadata": {},
   "outputs": [
    {
     "name": "stdout",
     "output_type": "stream",
     "text": [
      "2\n",
      "4\n"
     ]
    }
   ],
   "source": [
    "for number in my_list:\n",
    "    if number % 2 == 0:\n",
    "        print(number)"
   ]
  },
  {
   "cell_type": "code",
   "execution_count": 38,
   "id": "df34a0df-59db-4cf9-bc39-b037d4745e0d",
   "metadata": {},
   "outputs": [
    {
     "name": "stdout",
     "output_type": "stream",
     "text": [
      "M\n",
      "e\n",
      "r\n",
      "t\n",
      " \n",
      "A\n",
      "L\n",
      "T\n",
      "U\n",
      "N\n",
      "T\n",
      "A\n",
      "S\n"
     ]
    }
   ],
   "source": [
    "my_str = \"Mert ALTUNTAS\"\n",
    "for letter in my_str:\n",
    "    print(letter)"
   ]
  },
  {
   "cell_type": "code",
   "execution_count": 40,
   "id": "50db6799-f8d6-46fc-9c30-ce1da86133c6",
   "metadata": {},
   "outputs": [],
   "source": [
    "my_tuple = (1,2,3)"
   ]
  },
  {
   "cell_type": "code",
   "execution_count": 42,
   "id": "e6b9eb9d-c25d-4686-985d-743840879a9c",
   "metadata": {},
   "outputs": [
    {
     "name": "stdout",
     "output_type": "stream",
     "text": [
      "-5\n",
      "0\n",
      "5\n"
     ]
    }
   ],
   "source": [
    "for item in my_tuple:\n",
    "    print(item *5 -10)"
   ]
  },
  {
   "cell_type": "code",
   "execution_count": 44,
   "id": "f172e24e-802c-4c36-88d6-e6eff87c084b",
   "metadata": {},
   "outputs": [],
   "source": [
    "my_new_list = [(\"a\",\"b\"),(\"c\",\"d\"),(\"e\",\"f\"),(\"g\",\"h\")]"
   ]
  },
  {
   "cell_type": "code",
   "execution_count": 46,
   "id": "67ab8ed0-842f-4dcf-8219-980d8d0bd46c",
   "metadata": {},
   "outputs": [
    {
     "name": "stdout",
     "output_type": "stream",
     "text": [
      "('a', 'b')\n",
      "('c', 'd')\n",
      "('e', 'f')\n",
      "('g', 'h')\n"
     ]
    }
   ],
   "source": [
    "for element in my_new_list:\n",
    "    print(element)"
   ]
  },
  {
   "cell_type": "code",
   "execution_count": 48,
   "id": "897478f9-5a38-447a-ac2f-e8a922a87863",
   "metadata": {},
   "outputs": [
    {
     "name": "stdout",
     "output_type": "stream",
     "text": [
      "('a', 'b')\n",
      "('c', 'd')\n",
      "('e', 'f')\n",
      "('g', 'h')\n"
     ]
    }
   ],
   "source": [
    "for (x,y) in my_new_list:\n",
    "    print((x,y))"
   ]
  },
  {
   "cell_type": "code",
   "execution_count": 50,
   "id": "b7d6cddd-832c-41fe-bc5c-08cd760da165",
   "metadata": {},
   "outputs": [
    {
     "name": "stdout",
     "output_type": "stream",
     "text": [
      "a\n",
      "c\n",
      "e\n",
      "g\n"
     ]
    }
   ],
   "source": [
    "for (x,y) in my_new_list:\n",
    "    print(x)"
   ]
  },
  {
   "cell_type": "code",
   "execution_count": null,
   "id": "091321f8-c2a2-473b-86ea-e04a61c36e4a",
   "metadata": {},
   "outputs": [],
   "source": []
  }
 ],
 "metadata": {
  "kernelspec": {
   "display_name": "Python 3 (ipykernel)",
   "language": "python",
   "name": "python3"
  },
  "language_info": {
   "codemirror_mode": {
    "name": "ipython",
    "version": 3
   },
   "file_extension": ".py",
   "mimetype": "text/x-python",
   "name": "python",
   "nbconvert_exporter": "python",
   "pygments_lexer": "ipython3",
   "version": "3.12.4"
  }
 },
 "nbformat": 4,
 "nbformat_minor": 5
}
