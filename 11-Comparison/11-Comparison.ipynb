{
 "cells": [
  {
   "cell_type": "code",
   "execution_count": 1,
   "id": "a8872520-7488-4e20-8743-2eaa1e6c9dfc",
   "metadata": {},
   "outputs": [],
   "source": [
    "x =5 "
   ]
  },
  {
   "cell_type": "code",
   "execution_count": 3,
   "id": "658cdfa9-5040-42cf-9a6a-0a89b290ed41",
   "metadata": {},
   "outputs": [],
   "source": [
    "y = 4 "
   ]
  },
  {
   "cell_type": "code",
   "execution_count": 5,
   "id": "9f4dcddf-3aa0-4c1e-ae33-7aee1a0b2936",
   "metadata": {},
   "outputs": [
    {
     "data": {
      "text/plain": [
       "True"
      ]
     },
     "execution_count": 5,
     "metadata": {},
     "output_type": "execute_result"
    }
   ],
   "source": [
    "x > y"
   ]
  },
  {
   "cell_type": "code",
   "execution_count": 7,
   "id": "fc7489ea-73da-4df0-b5a1-f9566818948c",
   "metadata": {},
   "outputs": [
    {
     "data": {
      "text/plain": [
       "False"
      ]
     },
     "execution_count": 7,
     "metadata": {},
     "output_type": "execute_result"
    }
   ],
   "source": [
    "x < y"
   ]
  },
  {
   "cell_type": "code",
   "execution_count": 9,
   "id": "cd8a9b5a-205b-4369-8963-26ba489a0366",
   "metadata": {},
   "outputs": [
    {
     "data": {
      "text/plain": [
       "True"
      ]
     },
     "execution_count": 9,
     "metadata": {},
     "output_type": "execute_result"
    }
   ],
   "source": [
    "x >= y"
   ]
  },
  {
   "cell_type": "code",
   "execution_count": 11,
   "id": "8ea947b7-c934-4d32-b32a-b616aee81c42",
   "metadata": {},
   "outputs": [
    {
     "data": {
      "text/plain": [
       "False"
      ]
     },
     "execution_count": 11,
     "metadata": {},
     "output_type": "execute_result"
    }
   ],
   "source": [
    "x <= y"
   ]
  },
  {
   "cell_type": "code",
   "execution_count": 13,
   "id": "35ce2a88-c4c1-4683-ac9e-e656ff7be706",
   "metadata": {},
   "outputs": [
    {
     "data": {
      "text/plain": [
       "True"
      ]
     },
     "execution_count": 13,
     "metadata": {},
     "output_type": "execute_result"
    }
   ],
   "source": [
    "x >= 5 "
   ]
  },
  {
   "cell_type": "code",
   "execution_count": 15,
   "id": "bb36900c-c34e-4c54-b128-4f225a7bcfcc",
   "metadata": {},
   "outputs": [
    {
     "data": {
      "text/plain": [
       "True"
      ]
     },
     "execution_count": 15,
     "metadata": {},
     "output_type": "execute_result"
    }
   ],
   "source": [
    "x >= 5.0"
   ]
  },
  {
   "cell_type": "code",
   "execution_count": 17,
   "id": "665278f6-13ec-4297-b250-34db22fd2b7e",
   "metadata": {},
   "outputs": [
    {
     "data": {
      "text/plain": [
       "False"
      ]
     },
     "execution_count": 17,
     "metadata": {},
     "output_type": "execute_result"
    }
   ],
   "source": [
    "x >= 5.1"
   ]
  },
  {
   "cell_type": "code",
   "execution_count": 19,
   "id": "e6a0d79b-e266-4d5d-b5d2-e264acdb89f6",
   "metadata": {},
   "outputs": [
    {
     "data": {
      "text/plain": [
       "True"
      ]
     },
     "execution_count": 19,
     "metadata": {},
     "output_type": "execute_result"
    }
   ],
   "source": [
    "x >= 4.1"
   ]
  },
  {
   "cell_type": "code",
   "execution_count": 21,
   "id": "da22b6f5-3099-487e-adab-8a60187e1cd5",
   "metadata": {},
   "outputs": [
    {
     "data": {
      "text/plain": [
       "False"
      ]
     },
     "execution_count": 21,
     "metadata": {},
     "output_type": "execute_result"
    }
   ],
   "source": [
    "x == y"
   ]
  },
  {
   "cell_type": "code",
   "execution_count": 23,
   "id": "44010380-235c-486a-8f67-caddc9d01b85",
   "metadata": {},
   "outputs": [
    {
     "data": {
      "text/plain": [
       "True"
      ]
     },
     "execution_count": 23,
     "metadata": {},
     "output_type": "execute_result"
    }
   ],
   "source": [
    "x != y ## ! varsa olumsuz anlamı vardır eşit değilse anlamına gelir genelde boolean için kullanılır."
   ]
  },
  {
   "cell_type": "code",
   "execution_count": 25,
   "id": "b1c3adad-4edd-428f-974d-7d1c6e505cd5",
   "metadata": {},
   "outputs": [],
   "source": [
    "## and or not "
   ]
  },
  {
   "cell_type": "code",
   "execution_count": 33,
   "id": "f522298d-6801-441a-94d2-ae90b0728864",
   "metadata": {},
   "outputs": [
    {
     "data": {
      "text/plain": [
       "True"
      ]
     },
     "execution_count": 33,
     "metadata": {},
     "output_type": "execute_result"
    }
   ],
   "source": [
    "2 > 1  and 3 > 2 ## and konusunda 2 koşulunda doğru olması gerekiyor."
   ]
  },
  {
   "cell_type": "code",
   "execution_count": 31,
   "id": "4a17516b-c09d-4c8e-ad0f-16431ebf2bf3",
   "metadata": {},
   "outputs": [
    {
     "data": {
      "text/plain": [
       "False"
      ]
     },
     "execution_count": 31,
     "metadata": {},
     "output_type": "execute_result"
    }
   ],
   "source": [
    "2 < 1 and 3 > 2 "
   ]
  },
  {
   "cell_type": "code",
   "execution_count": 35,
   "id": "1ddfa7b0-a20d-4a4f-af49-acfdd96db7be",
   "metadata": {},
   "outputs": [
    {
     "data": {
      "text/plain": [
       "True"
      ]
     },
     "execution_count": 35,
     "metadata": {},
     "output_type": "execute_result"
    }
   ],
   "source": [
    "2 < 1 or 3 > 2 ##or konusunda 1 koşulun doğru olması yeterli."
   ]
  },
  {
   "cell_type": "code",
   "execution_count": 37,
   "id": "6c695ce8-a435-4049-96cc-2e9fc7d191b0",
   "metadata": {},
   "outputs": [
    {
     "data": {
      "text/plain": [
       "False"
      ]
     },
     "execution_count": 37,
     "metadata": {},
     "output_type": "execute_result"
    }
   ],
   "source": [
    "not  10== 10 ## tamamen olumsuz anlam katıyor true alan false oluyor false olan true oluyor."
   ]
  },
  {
   "cell_type": "code",
   "execution_count": null,
   "id": "07e92894-93c8-49ed-9a2c-0a6ee1928e3b",
   "metadata": {},
   "outputs": [],
   "source": []
  }
 ],
 "metadata": {
  "kernelspec": {
   "display_name": "Python 3 (ipykernel)",
   "language": "python",
   "name": "python3"
  },
  "language_info": {
   "codemirror_mode": {
    "name": "ipython",
    "version": 3
   },
   "file_extension": ".py",
   "mimetype": "text/x-python",
   "name": "python",
   "nbconvert_exporter": "python",
   "pygments_lexer": "ipython3",
   "version": "3.12.4"
  }
 },
 "nbformat": 4,
 "nbformat_minor": 5
}
