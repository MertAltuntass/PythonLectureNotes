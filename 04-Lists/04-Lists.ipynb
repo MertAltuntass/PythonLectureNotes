{
 "cells": [
  {
   "cell_type": "code",
   "execution_count": 1,
   "id": "56cf5488-f41a-4aed-ac77-fea7f7b323fa",
   "metadata": {},
   "outputs": [],
   "source": [
    "my_string = \"Mert\""
   ]
  },
  {
   "cell_type": "code",
   "execution_count": 3,
   "id": "313c6ff0-b432-4781-a427-c0af3c7fd7c2",
   "metadata": {},
   "outputs": [
    {
     "data": {
      "text/plain": [
       "'M'"
      ]
     },
     "execution_count": 3,
     "metadata": {},
     "output_type": "execute_result"
    }
   ],
   "source": [
    "my_string[0]"
   ]
  },
  {
   "cell_type": "code",
   "execution_count": 5,
   "id": "34dfa87d-4f6e-4280-bc05-27117df3d7fa",
   "metadata": {},
   "outputs": [
    {
     "data": {
      "text/plain": [
       "'e'"
      ]
     },
     "execution_count": 5,
     "metadata": {},
     "output_type": "execute_result"
    }
   ],
   "source": [
    "my_string[1]"
   ]
  },
  {
   "cell_type": "code",
   "execution_count": 10,
   "id": "4d73a84a-8ed9-43bd-923c-0d1b83e2bd61",
   "metadata": {},
   "outputs": [],
   "source": [
    "#my_string[0] = \"B\""
   ]
  },
  {
   "cell_type": "markdown",
   "id": "5eeb8e38-8127-47ec-bace-0352f9264171",
   "metadata": {},
   "source": [
    "##immutability"
   ]
  },
  {
   "cell_type": "code",
   "execution_count": 12,
   "id": "f4152d25-7bc5-424a-87c3-3d0b5efebf6c",
   "metadata": {},
   "outputs": [],
   "source": [
    "#my_string[2] = \"A\""
   ]
  },
  {
   "cell_type": "code",
   "execution_count": 14,
   "id": "fe3487f0-ecc0-4d59-998a-61b952f68f76",
   "metadata": {},
   "outputs": [],
   "source": [
    "my_list= [1,2,3]"
   ]
  },
  {
   "cell_type": "code",
   "execution_count": 16,
   "id": "9c723e43-9ab5-4628-93e6-915b56496686",
   "metadata": {},
   "outputs": [
    {
     "data": {
      "text/plain": [
       "1"
      ]
     },
     "execution_count": 16,
     "metadata": {},
     "output_type": "execute_result"
    }
   ],
   "source": [
    "my_list[0]"
   ]
  },
  {
   "cell_type": "markdown",
   "id": "3bd6e33f-b902-42b1-b288-4cfab9fe3aba",
   "metadata": {},
   "source": [
    "##mutable"
   ]
  },
  {
   "cell_type": "code",
   "execution_count": 20,
   "id": "6e3f29fc-e34d-4bac-bb13-123cf9da0791",
   "metadata": {},
   "outputs": [
    {
     "data": {
      "text/plain": [
       "[5, 2, 3]"
      ]
     },
     "execution_count": 20,
     "metadata": {},
     "output_type": "execute_result"
    }
   ],
   "source": [
    "my_list"
   ]
  },
  {
   "cell_type": "code",
   "execution_count": 18,
   "id": "c4f76f9c-22a6-44d0-9bb5-ac7df8533f89",
   "metadata": {},
   "outputs": [],
   "source": [
    "my_list[0] = 5"
   ]
  },
  {
   "cell_type": "code",
   "execution_count": 23,
   "id": "d9d7cc8e-8d5b-4dee-823d-0278733c0ce1",
   "metadata": {},
   "outputs": [],
   "source": [
    "my_list.append(7)"
   ]
  },
  {
   "cell_type": "code",
   "execution_count": 25,
   "id": "3c6bd240-3c10-4b4e-b073-e8aeb0fae0fd",
   "metadata": {},
   "outputs": [
    {
     "data": {
      "text/plain": [
       "[5, 2, 3, 7]"
      ]
     },
     "execution_count": 25,
     "metadata": {},
     "output_type": "execute_result"
    }
   ],
   "source": [
    "my_list"
   ]
  },
  {
   "cell_type": "code",
   "execution_count": 35,
   "id": "88c6e54b-a699-46c6-a8ee-1bf3b30d2962",
   "metadata": {},
   "outputs": [],
   "source": [
    "my_string=\"sabre\""
   ]
  },
  {
   "cell_type": "code",
   "execution_count": 29,
   "id": "bec9db49-1213-411b-aac0-d37e47060e4b",
   "metadata": {},
   "outputs": [
    {
     "data": {
      "text/plain": [
       "'Sabre'"
      ]
     },
     "execution_count": 29,
     "metadata": {},
     "output_type": "execute_result"
    }
   ],
   "source": [
    "my_string.capitalize()"
   ]
  },
  {
   "cell_type": "code",
   "execution_count": 31,
   "id": "1b7a43be-ea45-4943-8a13-545f6fd77f9d",
   "metadata": {},
   "outputs": [
    {
     "data": {
      "text/plain": [
       "'Sabre'"
      ]
     },
     "execution_count": 31,
     "metadata": {},
     "output_type": "execute_result"
    }
   ],
   "source": [
    "my_string"
   ]
  },
  {
   "cell_type": "code",
   "execution_count": 33,
   "id": "03cefc90-61b3-43b2-bd7c-88baa7533ca2",
   "metadata": {},
   "outputs": [
    {
     "data": {
      "text/plain": [
       "[5, 2, 3, 7]"
      ]
     },
     "execution_count": 33,
     "metadata": {},
     "output_type": "execute_result"
    }
   ],
   "source": [
    "my_list"
   ]
  },
  {
   "cell_type": "code",
   "execution_count": 37,
   "id": "b865cabd-eaff-451d-8f6e-b3e2b8fc7f7d",
   "metadata": {},
   "outputs": [
    {
     "data": {
      "text/plain": [
       "7"
      ]
     },
     "execution_count": 37,
     "metadata": {},
     "output_type": "execute_result"
    }
   ],
   "source": [
    "my_list.pop()"
   ]
  },
  {
   "cell_type": "code",
   "execution_count": 39,
   "id": "2f9275c0-adac-46f6-b4f8-ec9af11e8dfa",
   "metadata": {},
   "outputs": [
    {
     "data": {
      "text/plain": [
       "[5, 2, 3]"
      ]
     },
     "execution_count": 39,
     "metadata": {},
     "output_type": "execute_result"
    }
   ],
   "source": [
    "my_list"
   ]
  },
  {
   "cell_type": "code",
   "execution_count": 41,
   "id": "55023286-6e3c-46d6-86c4-3df3eaa82683",
   "metadata": {},
   "outputs": [],
   "source": [
    "my_mixed_list=[1,2,\"a\",\"bwe\"]"
   ]
  },
  {
   "cell_type": "code",
   "execution_count": 43,
   "id": "3b7b59fd-93cd-4145-a225-3831b20d29a5",
   "metadata": {},
   "outputs": [
    {
     "data": {
      "text/plain": [
       "1"
      ]
     },
     "execution_count": 43,
     "metadata": {},
     "output_type": "execute_result"
    }
   ],
   "source": [
    "my_mixed_list[0]"
   ]
  },
  {
   "cell_type": "code",
   "execution_count": 45,
   "id": "5b17ab6f-cf8f-44a2-8d83-23a2167aaf16",
   "metadata": {},
   "outputs": [
    {
     "data": {
      "text/plain": [
       "'bwe'"
      ]
     },
     "execution_count": 45,
     "metadata": {},
     "output_type": "execute_result"
    }
   ],
   "source": [
    "my_mixed_list[-1]"
   ]
  },
  {
   "cell_type": "code",
   "execution_count": 47,
   "id": "559e1bdd-cfa9-4cb8-ae98-f89cd98a2cb0",
   "metadata": {},
   "outputs": [],
   "source": [
    "my_list_1 = [\"a\",\"b\",\"c\"]"
   ]
  },
  {
   "cell_type": "code",
   "execution_count": 49,
   "id": "8de5af10-0f09-4135-b92c-b0a81a4360cd",
   "metadata": {},
   "outputs": [],
   "source": [
    "my_list_2 = [\"d\",\"e\",\"f\"]"
   ]
  },
  {
   "cell_type": "code",
   "execution_count": 51,
   "id": "171859c2-4246-45ac-8880-d47bc0dab8a6",
   "metadata": {},
   "outputs": [],
   "source": [
    "my_list_3 = my_list_1 + my_list_2"
   ]
  },
  {
   "cell_type": "code",
   "execution_count": 53,
   "id": "d1e70128-d77e-406a-90be-1933d99fb610",
   "metadata": {},
   "outputs": [
    {
     "data": {
      "text/plain": [
       "['a', 'b', 'c', 'd', 'e', 'f']"
      ]
     },
     "execution_count": 53,
     "metadata": {},
     "output_type": "execute_result"
    }
   ],
   "source": [
    "my_list_3"
   ]
  },
  {
   "cell_type": "code",
   "execution_count": 55,
   "id": "e0849e29-86a8-4bb9-a7ca-467c4f1e2ab6",
   "metadata": {},
   "outputs": [
    {
     "data": {
      "text/plain": [
       "['a', 'b', 'c', 'a', 'b', 'c', 'a', 'b', 'c']"
      ]
     },
     "execution_count": 55,
     "metadata": {},
     "output_type": "execute_result"
    }
   ],
   "source": [
    "my_list_1 *3 "
   ]
  },
  {
   "cell_type": "code",
   "execution_count": 57,
   "id": "db9c94e1-3d83-4e68-b010-939804762f10",
   "metadata": {},
   "outputs": [
    {
     "ename": "TypeError",
     "evalue": "can only concatenate list (not \"int\") to list",
     "output_type": "error",
     "traceback": [
      "\u001b[1;31m---------------------------------------------------------------------------\u001b[0m",
      "\u001b[1;31mTypeError\u001b[0m                                 Traceback (most recent call last)",
      "Cell \u001b[1;32mIn[57], line 1\u001b[0m\n\u001b[1;32m----> 1\u001b[0m my_list_1 \u001b[38;5;241m+\u001b[39m\u001b[38;5;241m5\u001b[39m\n",
      "\u001b[1;31mTypeError\u001b[0m: can only concatenate list (not \"int\") to list"
     ]
    }
   ],
   "source": [
    "my_list_1 +5 "
   ]
  },
  {
   "cell_type": "code",
   "execution_count": 59,
   "id": "15b8d81c-8696-4bff-a42e-8e5a237a4fb0",
   "metadata": {},
   "outputs": [
    {
     "ename": "TypeError",
     "evalue": "can't multiply sequence by non-int of type 'float'",
     "output_type": "error",
     "traceback": [
      "\u001b[1;31m---------------------------------------------------------------------------\u001b[0m",
      "\u001b[1;31mTypeError\u001b[0m                                 Traceback (most recent call last)",
      "Cell \u001b[1;32mIn[59], line 1\u001b[0m\n\u001b[1;32m----> 1\u001b[0m my_list_1 \u001b[38;5;241m*\u001b[39m\u001b[38;5;241m5.3\u001b[39m\n",
      "\u001b[1;31mTypeError\u001b[0m: can't multiply sequence by non-int of type 'float'"
     ]
    }
   ],
   "source": [
    "my_list_1 *5.3"
   ]
  },
  {
   "cell_type": "code",
   "execution_count": 61,
   "id": "bd6cf3bf-9247-4653-9051-13af83ede632",
   "metadata": {},
   "outputs": [],
   "source": [
    "my_list_1.reverse()"
   ]
  },
  {
   "cell_type": "code",
   "execution_count": 63,
   "id": "6377e0b7-3107-4218-a6cc-d32ac70af36d",
   "metadata": {},
   "outputs": [
    {
     "data": {
      "text/plain": [
       "['c', 'b', 'a']"
      ]
     },
     "execution_count": 63,
     "metadata": {},
     "output_type": "execute_result"
    }
   ],
   "source": [
    "my_list_1"
   ]
  },
  {
   "cell_type": "markdown",
   "id": "9b5b7f7f-3346-4fa4-a643-df99833c051a",
   "metadata": {},
   "source": [
    "##nested list"
   ]
  },
  {
   "cell_type": "code",
   "execution_count": 66,
   "id": "d2222ea7-5ce2-45bd-9a04-4e99bf3ddf19",
   "metadata": {},
   "outputs": [],
   "source": [
    "new_list = [1,4,\"a\"]"
   ]
  },
  {
   "cell_type": "code",
   "execution_count": 68,
   "id": "28e6005a-6a76-4a1a-b3d0-92095507a0cd",
   "metadata": {},
   "outputs": [],
   "source": [
    "new_list = [1,4,\"a\",[3,\"c\"]]"
   ]
  },
  {
   "cell_type": "code",
   "execution_count": 70,
   "id": "72fcb92d-ff27-4d67-a9c7-dc8fe5202fc3",
   "metadata": {},
   "outputs": [
    {
     "data": {
      "text/plain": [
       "[3, 'c']"
      ]
     },
     "execution_count": 70,
     "metadata": {},
     "output_type": "execute_result"
    }
   ],
   "source": [
    "new_list[3]"
   ]
  },
  {
   "cell_type": "code",
   "execution_count": 72,
   "id": "a66225a5-c28c-4ba7-bf89-26407c09a412",
   "metadata": {},
   "outputs": [],
   "source": [
    "nested_list = new_list[3]"
   ]
  },
  {
   "cell_type": "code",
   "execution_count": 74,
   "id": "f70dad87-46a6-4b6a-a758-7afd8a1994d5",
   "metadata": {},
   "outputs": [
    {
     "data": {
      "text/plain": [
       "[3, 'c']"
      ]
     },
     "execution_count": 74,
     "metadata": {},
     "output_type": "execute_result"
    }
   ],
   "source": [
    "nested_list"
   ]
  },
  {
   "cell_type": "code",
   "execution_count": 76,
   "id": "3b153af3-b6d5-4088-8bd4-768747e968eb",
   "metadata": {},
   "outputs": [
    {
     "data": {
      "text/plain": [
       "'c'"
      ]
     },
     "execution_count": 76,
     "metadata": {},
     "output_type": "execute_result"
    }
   ],
   "source": [
    "nested_list[1]"
   ]
  },
  {
   "cell_type": "code",
   "execution_count": 78,
   "id": "47235be8-2f6b-4fe8-9f74-d617cc88abb9",
   "metadata": {},
   "outputs": [
    {
     "data": {
      "text/plain": [
       "'c'"
      ]
     },
     "execution_count": 78,
     "metadata": {},
     "output_type": "execute_result"
    }
   ],
   "source": [
    "new_list[3][1]"
   ]
  },
  {
   "cell_type": "code",
   "execution_count": 80,
   "id": "c726a9b9-649b-4b67-84e9-c7921d583d5a",
   "metadata": {},
   "outputs": [
    {
     "data": {
      "text/plain": [
       "[1, 4, 'a', [3, 'c']]"
      ]
     },
     "execution_count": 80,
     "metadata": {},
     "output_type": "execute_result"
    }
   ],
   "source": [
    "new_list"
   ]
  },
  {
   "cell_type": "code",
   "execution_count": 82,
   "id": "1d6b0bca-86b7-4306-9d2c-22c5938278d5",
   "metadata": {},
   "outputs": [
    {
     "data": {
      "text/plain": [
       "['a', [3, 'c']]"
      ]
     },
     "execution_count": 82,
     "metadata": {},
     "output_type": "execute_result"
    }
   ],
   "source": [
    "new_list[2:]"
   ]
  },
  {
   "cell_type": "code",
   "execution_count": 84,
   "id": "9ecd1517-6866-406c-bc34-e734891ed72d",
   "metadata": {},
   "outputs": [
    {
     "data": {
      "text/plain": [
       "[1, 4]"
      ]
     },
     "execution_count": 84,
     "metadata": {},
     "output_type": "execute_result"
    }
   ],
   "source": [
    "new_list[:2]"
   ]
  },
  {
   "cell_type": "code",
   "execution_count": null,
   "id": "d609ae3d-1bf9-40b0-b78a-b50b54cd0533",
   "metadata": {},
   "outputs": [],
   "source": []
  }
 ],
 "metadata": {
  "kernelspec": {
   "display_name": "Python 3 (ipykernel)",
   "language": "python",
   "name": "python3"
  },
  "language_info": {
   "codemirror_mode": {
    "name": "ipython",
    "version": 3
   },
   "file_extension": ".py",
   "mimetype": "text/x-python",
   "name": "python",
   "nbconvert_exporter": "python",
   "pygments_lexer": "ipython3",
   "version": "3.12.4"
  }
 },
 "nbformat": 4,
 "nbformat_minor": 5
}
