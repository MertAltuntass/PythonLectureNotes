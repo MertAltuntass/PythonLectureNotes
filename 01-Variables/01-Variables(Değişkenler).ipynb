{
 "cells": [
  {
   "cell_type": "code",
   "execution_count": 5,
   "id": "9a6ecc7d-8a48-4369-9423-b47cc68c7548",
   "metadata": {},
   "outputs": [
    {
     "data": {
      "text/plain": [
       "9"
      ]
     },
     "execution_count": 5,
     "metadata": {},
     "output_type": "execute_result"
    }
   ],
   "source": [
    "4+5"
   ]
  },
  {
   "cell_type": "code",
   "execution_count": 7,
   "id": "b1a7eb19-41f1-4a93-a610-8e6243ef3b98",
   "metadata": {},
   "outputs": [
    {
     "data": {
      "text/plain": [
       "2000"
      ]
     },
     "execution_count": 7,
     "metadata": {},
     "output_type": "execute_result"
    }
   ],
   "source": [
    "1500+500"
   ]
  },
  {
   "cell_type": "code",
   "execution_count": 9,
   "id": "63b74812-484c-464d-91f0-fd66a2554331",
   "metadata": {},
   "outputs": [
    {
     "data": {
      "text/plain": [
       "114.28571428571429"
      ]
     },
     "execution_count": 9,
     "metadata": {},
     "output_type": "execute_result"
    }
   ],
   "source": [
    "800/7"
   ]
  },
  {
   "cell_type": "code",
   "execution_count": 11,
   "id": "eb059b2f-b777-44b5-98b1-bdb60ec2c535",
   "metadata": {},
   "outputs": [
    {
     "data": {
      "text/plain": [
       "240"
      ]
     },
     "execution_count": 11,
     "metadata": {},
     "output_type": "execute_result"
    }
   ],
   "source": [
    "500-260"
   ]
  },
  {
   "cell_type": "code",
   "execution_count": 13,
   "id": "aa5014d5-c0fa-46d1-b11a-ef31a15642bc",
   "metadata": {},
   "outputs": [
    {
     "data": {
      "text/plain": [
       "19648"
      ]
     },
     "execution_count": 13,
     "metadata": {},
     "output_type": "execute_result"
    }
   ],
   "source": [
    "4912*4"
   ]
  },
  {
   "cell_type": "code",
   "execution_count": 15,
   "id": "2c256ee6-73d4-4603-ad75-1b3c551e8836",
   "metadata": {},
   "outputs": [
    {
     "data": {
      "text/plain": [
       "0"
      ]
     },
     "execution_count": 15,
     "metadata": {},
     "output_type": "execute_result"
    }
   ],
   "source": [
    "2^2"
   ]
  },
  {
   "cell_type": "code",
   "execution_count": 17,
   "id": "7a129f49-ef33-4500-bcd1-f55e522f2154",
   "metadata": {},
   "outputs": [
    {
     "data": {
      "text/plain": [
       "8"
      ]
     },
     "execution_count": 17,
     "metadata": {},
     "output_type": "execute_result"
    }
   ],
   "source": [
    "2*2*2"
   ]
  },
  {
   "cell_type": "code",
   "execution_count": 19,
   "id": "12ef0290-48d6-4498-aafd-e4af6004841c",
   "metadata": {},
   "outputs": [
    {
     "data": {
      "text/plain": [
       "8"
      ]
     },
     "execution_count": 19,
     "metadata": {},
     "output_type": "execute_result"
    }
   ],
   "source": [
    "2**3"
   ]
  },
  {
   "cell_type": "code",
   "execution_count": 21,
   "id": "3a615f79-3303-4fec-89c3-689d03cde134",
   "metadata": {},
   "outputs": [
    {
     "data": {
      "text/plain": [
       "0"
      ]
     },
     "execution_count": 21,
     "metadata": {},
     "output_type": "execute_result"
    }
   ],
   "source": [
    "10 % 2 "
   ]
  },
  {
   "cell_type": "code",
   "execution_count": 23,
   "id": "3fb48822-be1f-4117-908b-5a408d6f6aa0",
   "metadata": {},
   "outputs": [
    {
     "data": {
      "text/plain": [
       "1"
      ]
     },
     "execution_count": 23,
     "metadata": {},
     "output_type": "execute_result"
    }
   ],
   "source": [
    "11 % 2 "
   ]
  },
  {
   "cell_type": "markdown",
   "id": "95e63daa-847e-48ec-bf81-3db79b87816c",
   "metadata": {},
   "source": [
    "Integer"
   ]
  },
  {
   "cell_type": "code",
   "execution_count": 26,
   "id": "d9ad8fef-5b0d-4ee1-9a10-43fe74667de6",
   "metadata": {},
   "outputs": [
    {
     "data": {
      "text/plain": [
       "6"
      ]
     },
     "execution_count": 26,
     "metadata": {},
     "output_type": "execute_result"
    }
   ],
   "source": [
    "3+3"
   ]
  },
  {
   "cell_type": "markdown",
   "id": "0f4ee16c-ee91-473b-9dcb-9464b3b73f9d",
   "metadata": {},
   "source": [
    "Float"
   ]
  },
  {
   "cell_type": "code",
   "execution_count": 29,
   "id": "6d45c7b5-c4ba-4765-990c-2587c146715b",
   "metadata": {},
   "outputs": [
    {
     "data": {
      "text/plain": [
       "1.2800000000000002"
      ]
     },
     "execution_count": 29,
     "metadata": {},
     "output_type": "execute_result"
    }
   ],
   "source": [
    "0.4 * 3.2"
   ]
  },
  {
   "cell_type": "markdown",
   "id": "b4987522-be29-4090-9d47-fc3c9603fdf8",
   "metadata": {},
   "source": [
    "İşlem sonunda 2 yazmasının sebebi tamamen python işleyişiyle alakalı bir durum."
   ]
  },
  {
   "cell_type": "code",
   "execution_count": 33,
   "id": "a2c3dc86-e794-4d67-afd8-6f3f8ada7523",
   "metadata": {},
   "outputs": [
    {
     "data": {
      "text/plain": [
       "4"
      ]
     },
     "execution_count": 33,
     "metadata": {},
     "output_type": "execute_result"
    }
   ],
   "source": [
    "2+2"
   ]
  },
  {
   "cell_type": "markdown",
   "id": "1fa06344-172c-44f3-ace0-b82b13519ddd",
   "metadata": {},
   "source": [
    "Variables (Değişkenler)"
   ]
  },
  {
   "cell_type": "code",
   "execution_count": 36,
   "id": "7b263677-3544-48ec-9812-f0fa9ac3d3fe",
   "metadata": {},
   "outputs": [],
   "source": [
    "x = 3 "
   ]
  },
  {
   "cell_type": "code",
   "execution_count": 38,
   "id": "4e9d2f8a-4f14-4332-b0e5-7bb03849b39c",
   "metadata": {},
   "outputs": [],
   "source": [
    "y = 5 "
   ]
  },
  {
   "cell_type": "code",
   "execution_count": 40,
   "id": "6dfc6cff-3ae5-4cdd-8e11-a2b472d07e43",
   "metadata": {},
   "outputs": [
    {
     "data": {
      "text/plain": [
       "8"
      ]
     },
     "execution_count": 40,
     "metadata": {},
     "output_type": "execute_result"
    }
   ],
   "source": [
    "x+y"
   ]
  },
  {
   "cell_type": "code",
   "execution_count": 42,
   "id": "1ab71d60-fca6-4a52-a937-365cf8bf081a",
   "metadata": {},
   "outputs": [
    {
     "data": {
      "text/plain": [
       "243"
      ]
     },
     "execution_count": 42,
     "metadata": {},
     "output_type": "execute_result"
    }
   ],
   "source": [
    "x**y"
   ]
  },
  {
   "cell_type": "code",
   "execution_count": 44,
   "id": "b9334460-c4d5-4a1c-8628-bd56adf5ba83",
   "metadata": {},
   "outputs": [],
   "source": [
    "x=4"
   ]
  },
  {
   "cell_type": "code",
   "execution_count": 46,
   "id": "93f560fe-086b-47ac-842a-eaae48ae3567",
   "metadata": {},
   "outputs": [
    {
     "data": {
      "text/plain": [
       "9"
      ]
     },
     "execution_count": 46,
     "metadata": {},
     "output_type": "execute_result"
    }
   ],
   "source": [
    "x+y"
   ]
  },
  {
   "cell_type": "code",
   "execution_count": 48,
   "id": "2bb94182-8a13-4d6b-802a-22e0e3889a76",
   "metadata": {},
   "outputs": [
    {
     "data": {
      "text/plain": [
       "1024"
      ]
     },
     "execution_count": 48,
     "metadata": {},
     "output_type": "execute_result"
    }
   ],
   "source": [
    "x**y"
   ]
  },
  {
   "cell_type": "code",
   "execution_count": 50,
   "id": "277fba9f-504c-4a44-8287-d1fc736c1254",
   "metadata": {},
   "outputs": [
    {
     "name": "stdin",
     "output_type": "stream",
     "text": [
      "r:  5\n"
     ]
    }
   ],
   "source": [
    "r = input(\"r: \")"
   ]
  },
  {
   "cell_type": "code",
   "execution_count": 52,
   "id": "54c2edd7-23b3-41ab-abc2-7e51699832f6",
   "metadata": {},
   "outputs": [
    {
     "ename": "TypeError",
     "evalue": "can't multiply sequence by non-int of type 'float'",
     "output_type": "error",
     "traceback": [
      "\u001b[1;31m---------------------------------------------------------------------------\u001b[0m",
      "\u001b[1;31mTypeError\u001b[0m                                 Traceback (most recent call last)",
      "Cell \u001b[1;32mIn[52], line 1\u001b[0m\n\u001b[1;32m----> 1\u001b[0m r\u001b[38;5;241m*\u001b[39m\u001b[38;5;241m2\u001b[39m\u001b[38;5;241m*\u001b[39m\u001b[38;5;241m3.14\u001b[39m\n",
      "\u001b[1;31mTypeError\u001b[0m: can't multiply sequence by non-int of type 'float'"
     ]
    }
   ],
   "source": [
    "r*2*3.14"
   ]
  },
  {
   "cell_type": "code",
   "execution_count": 54,
   "id": "34f6ce87-bc1c-4e8a-a071-a1ac51ae45c9",
   "metadata": {},
   "outputs": [
    {
     "data": {
      "text/plain": [
       "int"
      ]
     },
     "execution_count": 54,
     "metadata": {},
     "output_type": "execute_result"
    }
   ],
   "source": [
    "type(x)"
   ]
  },
  {
   "cell_type": "code",
   "execution_count": 56,
   "id": "9598a557-1d20-47a3-9fed-b9a5f40ed0d2",
   "metadata": {},
   "outputs": [],
   "source": [
    "pi = 3.14"
   ]
  },
  {
   "cell_type": "code",
   "execution_count": 58,
   "id": "81a0ad1c-885e-400d-9fc0-e0924ad208af",
   "metadata": {},
   "outputs": [
    {
     "data": {
      "text/plain": [
       "float"
      ]
     },
     "execution_count": 58,
     "metadata": {},
     "output_type": "execute_result"
    }
   ],
   "source": [
    "type(pi)"
   ]
  },
  {
   "cell_type": "code",
   "execution_count": 60,
   "id": "13bde759-a0f0-400e-8b57-14f1b5428495",
   "metadata": {},
   "outputs": [
    {
     "data": {
      "text/plain": [
       "str"
      ]
     },
     "execution_count": 60,
     "metadata": {},
     "output_type": "execute_result"
    }
   ],
   "source": [
    "type(r)"
   ]
  },
  {
   "cell_type": "code",
   "execution_count": 62,
   "id": "bae1a8b6-5919-4df7-9145-cafbf5fb2a97",
   "metadata": {},
   "outputs": [
    {
     "data": {
      "text/plain": [
       "'5'"
      ]
     },
     "execution_count": 62,
     "metadata": {},
     "output_type": "execute_result"
    }
   ],
   "source": [
    "r"
   ]
  },
  {
   "cell_type": "code",
   "execution_count": 64,
   "id": "b0cb3441-2815-4886-ab28-bf54b27367fa",
   "metadata": {},
   "outputs": [],
   "source": [
    "r_int = int(r)"
   ]
  },
  {
   "cell_type": "code",
   "execution_count": 66,
   "id": "0074b2b6-8bcc-4024-bc57-c6760a6b167c",
   "metadata": {},
   "outputs": [
    {
     "data": {
      "text/plain": [
       "5"
      ]
     },
     "execution_count": 66,
     "metadata": {},
     "output_type": "execute_result"
    }
   ],
   "source": [
    "r_int"
   ]
  },
  {
   "cell_type": "code",
   "execution_count": 68,
   "id": "075d3606-e7a3-4fa3-b8a8-b392bea6ce51",
   "metadata": {},
   "outputs": [
    {
     "data": {
      "text/plain": [
       "int"
      ]
     },
     "execution_count": 68,
     "metadata": {},
     "output_type": "execute_result"
    }
   ],
   "source": [
    "type(r_int)"
   ]
  },
  {
   "cell_type": "code",
   "execution_count": 70,
   "id": "0619e9c2-1448-454e-8cba-c000704046b6",
   "metadata": {},
   "outputs": [
    {
     "data": {
      "text/plain": [
       "31.400000000000002"
      ]
     },
     "execution_count": 70,
     "metadata": {},
     "output_type": "execute_result"
    }
   ],
   "source": [
    "r_int*pi*2"
   ]
  },
  {
   "cell_type": "code",
   "execution_count": null,
   "id": "0e4c740b-1632-4424-a49c-94c7359556d4",
   "metadata": {},
   "outputs": [],
   "source": []
  }
 ],
 "metadata": {
  "kernelspec": {
   "display_name": "Python 3 (ipykernel)",
   "language": "python",
   "name": "python3"
  },
  "language_info": {
   "codemirror_mode": {
    "name": "ipython",
    "version": 3
   },
   "file_extension": ".py",
   "mimetype": "text/x-python",
   "name": "python",
   "nbconvert_exporter": "python",
   "pygments_lexer": "ipython3",
   "version": "3.12.4"
  }
 },
 "nbformat": 4,
 "nbformat_minor": 5
}
